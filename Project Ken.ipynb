{
 "cells": [
  {
   "cell_type": "markdown",
   "metadata": {},
   "source": [
    "Goal: To predict The Salary Based on some of the Factors of the Job Position"
   ]
  },
  {
   "cell_type": "code",
   "execution_count": 532,
   "metadata": {},
   "outputs": [],
   "source": [
    "import glassdoor_scraper as gs\n",
    "\n",
    "\n",
    "import pandas as pd\n",
    "\n",
    "import sys\n",
    "\n",
    "import re\n",
    "\n",
    "import matplotlib.pyplot as plt\n",
    "\n",
    "import plotly.express as px\n",
    "\n",
    "import numpy as np\n",
    "\n",
    "import scipy\n",
    "\n",
    "import sklearn\n",
    "\n",
    "import seaborn as sns\n",
    "\n",
    "from datetime import datetime, timedelta\n",
    "\n",
    "from matplotlib import dates as mpl_dates\n",
    "\n",
    "from matplotlib.animation import FuncAnimation"
   ]
  },
  {
   "cell_type": "markdown",
   "metadata": {},
   "source": [
    "# 1. Scrapping Data"
   ]
  },
  {
   "cell_type": "code",
   "execution_count": 533,
   "metadata": {},
   "outputs": [],
   "source": [
    "path = \"C:/Users/enriq/Anaconda3/Lib/site-packages/selenium/webdriver/chrome/chromedriver.exe\""
   ]
  },
  {
   "cell_type": "code",
   "execution_count": 534,
   "metadata": {},
   "outputs": [],
   "source": [
    "# df=gs.get_jobs(\"data scientist\", 12, False, path, 15) # didnt work for me "
   ]
  },
  {
   "cell_type": "code",
   "execution_count": 535,
   "metadata": {},
   "outputs": [
    {
     "name": "stderr",
     "output_type": "stream",
     "text": [
      "Skipping line 753: unexpected end of data\n"
     ]
    }
   ],
   "source": [
    "df = pd.read_csv(r\"C:\\Users\\enriq\\Your_env_name_Notebooks\\Github_Project_Ken\\glassdoor_datascience_US.csv\", engine=\"python\", encoding='utf-8', error_bad_lines=False)"
   ]
  },
  {
   "cell_type": "markdown",
   "metadata": {},
   "source": [
    "# 2. Data cleaning"
   ]
  },
  {
   "cell_type": "code",
   "execution_count": 536,
   "metadata": {},
   "outputs": [],
   "source": [
    "pd.set_option(\"display.max_rows\", 85)"
   ]
  },
  {
   "cell_type": "code",
   "execution_count": 537,
   "metadata": {},
   "outputs": [],
   "source": [
    "pd.set_option(\"display.max_columns\", 40)"
   ]
  },
  {
   "cell_type": "code",
   "execution_count": 538,
   "metadata": {},
   "outputs": [
    {
     "data": {
      "text/plain": [
       "Unnamed: 0             int64\n",
       "Job Title             object\n",
       "Salary Estimate       object\n",
       "Job Description       object\n",
       "Rating               float64\n",
       "Company Name          object\n",
       "Location              object\n",
       "Headquarters          object\n",
       "Size                  object\n",
       "Founded                int64\n",
       "Type of ownership     object\n",
       "Industry              object\n",
       "Sector                object\n",
       "Revenue               object\n",
       "Competitors           object\n",
       "dtype: object"
      ]
     },
     "execution_count": 538,
     "metadata": {},
     "output_type": "execute_result"
    }
   ],
   "source": [
    "df.dtypes"
   ]
  },
  {
   "cell_type": "code",
   "execution_count": 539,
   "metadata": {},
   "outputs": [],
   "source": [
    "df.columns = df.columns.str.lower() # Making title columns lower case"
   ]
  },
  {
   "cell_type": "code",
   "execution_count": 540,
   "metadata": {},
   "outputs": [],
   "source": [
    "filt = df[\"salary estimate\"].str.contains(\"Per Hour\")"
   ]
  },
  {
   "cell_type": "code",
   "execution_count": 541,
   "metadata": {},
   "outputs": [
    {
     "data": {
      "text/plain": [
       "197             $17-$24 Per Hour(Glassdoor est.)\n",
       "209             $21-$34 Per Hour(Glassdoor est.)\n",
       "240             $18-$25 Per Hour(Glassdoor est.)\n",
       "247             $21-$34 Per Hour(Glassdoor est.)\n",
       "257             $15-$25 Per Hour(Glassdoor est.)\n",
       "307             $17-$24 Per Hour(Glassdoor est.)\n",
       "337             $21-$34 Per Hour(Glassdoor est.)\n",
       "427             $18-$25 Per Hour(Glassdoor est.)\n",
       "437             $24-$39 Per Hour(Glassdoor est.)\n",
       "456             $21-$34 Per Hour(Glassdoor est.)\n",
       "464    Employer Provided Salary:$25-$28 Per Hour\n",
       "522             $21-$29 Per Hour(Glassdoor est.)\n",
       "523             $10-$17 Per Hour(Glassdoor est.)\n",
       "632             $18-$25 Per Hour(Glassdoor est.)\n",
       "652             $24-$39 Per Hour(Glassdoor est.)\n",
       "682             $21-$34 Per Hour(Glassdoor est.)\n",
       "694    Employer Provided Salary:$25-$28 Per Hour\n",
       "Name: salary estimate, dtype: object"
      ]
     },
     "execution_count": 541,
     "metadata": {},
     "output_type": "execute_result"
    }
   ],
   "source": [
    "df[\"salary estimate\"].loc[filt]"
   ]
  },
  {
   "cell_type": "code",
   "execution_count": 542,
   "metadata": {},
   "outputs": [],
   "source": [
    "df[\"hourly\"] = filt"
   ]
  },
  {
   "cell_type": "code",
   "execution_count": 543,
   "metadata": {},
   "outputs": [],
   "source": [
    "pattern = re.compile(r\"[\\d{2}]+\")"
   ]
  },
  {
   "cell_type": "code",
   "execution_count": 544,
   "metadata": {},
   "outputs": [],
   "source": [
    "lista = [] # salary parsing\n",
    "for i in df[\"salary estimate\"]:\n",
    "    x = pattern.findall(i)\n",
    "    if x[0] != 1 and len(x) > 1:\n",
    "        try:\n",
    "            x[0] = int(x[0])\n",
    "            x[1] = int(x[1])\n",
    "            x=pd.Series(x).mean()\n",
    "        except IndexError:\n",
    "            pass\n",
    "    elif x[0]==1:\n",
    "        x=np.nan\n",
    "    else:\n",
    "        x=int(x[0])\n",
    "    lista.append(x)\n"
   ]
  },
  {
   "cell_type": "code",
   "execution_count": 545,
   "metadata": {},
   "outputs": [],
   "source": [
    "df[\"salary_average\"] = pd.Series(lista)"
   ]
  },
  {
   "cell_type": "code",
   "execution_count": 546,
   "metadata": {},
   "outputs": [],
   "source": [
    "df[\"salary_average\"].replace(1, np.nan, inplace=True)"
   ]
  },
  {
   "cell_type": "code",
   "execution_count": 547,
   "metadata": {},
   "outputs": [],
   "source": [
    "lista2 = [] # salary parsing\n",
    "for i in df[\"salary estimate\"]:\n",
    "    x = pattern.findall(i)\n",
    "    if x[0] != 1:\n",
    "        try:\n",
    "            x = int(x[0])\n",
    "        except IndexError:\n",
    "            pass\n",
    "    elif x[0] ==1:\n",
    "        x=np.nan\n",
    "    \n",
    "    lista2.append(x)"
   ]
  },
  {
   "cell_type": "code",
   "execution_count": 548,
   "metadata": {},
   "outputs": [],
   "source": [
    "df[\"salary_min\"] = pd.Series(lista2)"
   ]
  },
  {
   "cell_type": "code",
   "execution_count": 549,
   "metadata": {},
   "outputs": [],
   "source": [
    "df[\"salary_min\"].replace(1, np.nan, inplace=True)"
   ]
  },
  {
   "cell_type": "code",
   "execution_count": 550,
   "metadata": {},
   "outputs": [],
   "source": [
    "lista3 = [] # salary parsing\n",
    "for i in df[\"salary estimate\"]:\n",
    "    x = pattern.findall(i)\n",
    "    if x[0] != 1:\n",
    "        try:\n",
    "            x = int(x[0])\n",
    "        except IndexError:\n",
    "            pass\n",
    "    elif x[0] ==1:\n",
    "        x=np.nan\n",
    "    \n",
    "    lista3.append(x)"
   ]
  },
  {
   "cell_type": "code",
   "execution_count": 551,
   "metadata": {},
   "outputs": [],
   "source": [
    "df[\"salary_max\"] = pd.Series(lista3)"
   ]
  },
  {
   "cell_type": "code",
   "execution_count": 552,
   "metadata": {},
   "outputs": [],
   "source": [
    "df[\"salary_max\"].replace(1, np.nan, inplace=True)"
   ]
  },
  {
   "cell_type": "code",
   "execution_count": 553,
   "metadata": {},
   "outputs": [],
   "source": [
    "df_splitted = df[\"location\"].str.split(\",\", expand=True) # city/state columns"
   ]
  },
  {
   "cell_type": "code",
   "execution_count": 554,
   "metadata": {},
   "outputs": [],
   "source": [
    "df = pd.concat([df, df_splitted], axis=1)"
   ]
  },
  {
   "cell_type": "code",
   "execution_count": 555,
   "metadata": {},
   "outputs": [],
   "source": [
    "df = df.drop([\"location\",2], axis=1)"
   ]
  },
  {
   "cell_type": "code",
   "execution_count": 556,
   "metadata": {},
   "outputs": [],
   "source": [
    "df.rename(columns={0:\"city\", 1: \"state\"}, inplace=True)"
   ]
  },
  {
   "cell_type": "code",
   "execution_count": 557,
   "metadata": {},
   "outputs": [
    {
     "data": {
      "text/html": [
       "<div>\n",
       "<style scoped>\n",
       "    .dataframe tbody tr th:only-of-type {\n",
       "        vertical-align: middle;\n",
       "    }\n",
       "\n",
       "    .dataframe tbody tr th {\n",
       "        vertical-align: top;\n",
       "    }\n",
       "\n",
       "    .dataframe thead th {\n",
       "        text-align: right;\n",
       "    }\n",
       "</style>\n",
       "<table border=\"1\" class=\"dataframe\">\n",
       "  <thead>\n",
       "    <tr style=\"text-align: right;\">\n",
       "      <th></th>\n",
       "      <th>unnamed: 0</th>\n",
       "      <th>job title</th>\n",
       "      <th>salary estimate</th>\n",
       "      <th>job description</th>\n",
       "      <th>rating</th>\n",
       "      <th>company name</th>\n",
       "      <th>headquarters</th>\n",
       "      <th>size</th>\n",
       "      <th>founded</th>\n",
       "      <th>type of ownership</th>\n",
       "      <th>industry</th>\n",
       "      <th>sector</th>\n",
       "      <th>revenue</th>\n",
       "      <th>competitors</th>\n",
       "      <th>hourly</th>\n",
       "      <th>salary_average</th>\n",
       "      <th>salary_min</th>\n",
       "      <th>salary_max</th>\n",
       "      <th>city</th>\n",
       "      <th>state</th>\n",
       "    </tr>\n",
       "  </thead>\n",
       "  <tbody>\n",
       "    <tr>\n",
       "      <th>0</th>\n",
       "      <td>0</td>\n",
       "      <td>Data Scientist</td>\n",
       "      <td>$53K-$91K (Glassdoor est.)</td>\n",
       "      <td>Data Scientist\\r\\nLocation: Albuquerque, NM\\r\\...</td>\n",
       "      <td>3.8</td>\n",
       "      <td>Tecolote Research\\r\\n3.8</td>\n",
       "      <td>Goleta, CA</td>\n",
       "      <td>501 to 1000 employees</td>\n",
       "      <td>1973</td>\n",
       "      <td>Company - Private</td>\n",
       "      <td>Aerospace &amp; Defense</td>\n",
       "      <td>Aerospace &amp; Defense</td>\n",
       "      <td>$50 to $100 million (USD)</td>\n",
       "      <td>-1</td>\n",
       "      <td>False</td>\n",
       "      <td>72.0</td>\n",
       "      <td>53.0</td>\n",
       "      <td>53.0</td>\n",
       "      <td>Albuquerque</td>\n",
       "      <td>NM</td>\n",
       "    </tr>\n",
       "    <tr>\n",
       "      <th>1</th>\n",
       "      <td>1</td>\n",
       "      <td>Healthcare Data Scientist</td>\n",
       "      <td>$63K-$112K (Glassdoor est.)</td>\n",
       "      <td>What You Will Do:\\r\\n\\r\\nI. General Summary\\r\\...</td>\n",
       "      <td>3.4</td>\n",
       "      <td>University of Maryland Medical System\\r\\n3.4</td>\n",
       "      <td>Baltimore, MD</td>\n",
       "      <td>10000+ employees</td>\n",
       "      <td>1984</td>\n",
       "      <td>Other Organization</td>\n",
       "      <td>Health Care Services &amp; Hospitals</td>\n",
       "      <td>Health Care</td>\n",
       "      <td>$2 to $5 billion (USD)</td>\n",
       "      <td>-1</td>\n",
       "      <td>False</td>\n",
       "      <td>87.5</td>\n",
       "      <td>63.0</td>\n",
       "      <td>63.0</td>\n",
       "      <td>Linthicum</td>\n",
       "      <td>MD</td>\n",
       "    </tr>\n",
       "    <tr>\n",
       "      <th>2</th>\n",
       "      <td>2</td>\n",
       "      <td>Data Scientist</td>\n",
       "      <td>$80K-$90K (Glassdoor est.)</td>\n",
       "      <td>KnowBe4, Inc. is a high growth information sec...</td>\n",
       "      <td>4.8</td>\n",
       "      <td>KnowBe4\\r\\n4.8</td>\n",
       "      <td>Clearwater, FL</td>\n",
       "      <td>501 to 1000 employees</td>\n",
       "      <td>2010</td>\n",
       "      <td>Company - Private</td>\n",
       "      <td>Security Services</td>\n",
       "      <td>Business Services</td>\n",
       "      <td>$100 to $500 million (USD)</td>\n",
       "      <td>-1</td>\n",
       "      <td>False</td>\n",
       "      <td>85.0</td>\n",
       "      <td>80.0</td>\n",
       "      <td>80.0</td>\n",
       "      <td>Clearwater</td>\n",
       "      <td>FL</td>\n",
       "    </tr>\n",
       "    <tr>\n",
       "      <th>3</th>\n",
       "      <td>3</td>\n",
       "      <td>Data Scientist</td>\n",
       "      <td>$56K-$97K (Glassdoor est.)</td>\n",
       "      <td>*Organization and Job ID**\\r\\nJob ID: 310709\\r...</td>\n",
       "      <td>3.8</td>\n",
       "      <td>PNNL\\r\\n3.8</td>\n",
       "      <td>Richland, WA</td>\n",
       "      <td>1001 to 5000 employees</td>\n",
       "      <td>1965</td>\n",
       "      <td>Government</td>\n",
       "      <td>Energy</td>\n",
       "      <td>Oil, Gas, Energy &amp; Utilities</td>\n",
       "      <td>$500 million to $1 billion (USD)</td>\n",
       "      <td>Oak Ridge National Laboratory, National Renewa...</td>\n",
       "      <td>False</td>\n",
       "      <td>76.5</td>\n",
       "      <td>56.0</td>\n",
       "      <td>56.0</td>\n",
       "      <td>Richland</td>\n",
       "      <td>WA</td>\n",
       "    </tr>\n",
       "    <tr>\n",
       "      <th>4</th>\n",
       "      <td>4</td>\n",
       "      <td>Data Scientist</td>\n",
       "      <td>$86K-$143K (Glassdoor est.)</td>\n",
       "      <td>Data Scientist\\r\\nAffinity Solutions / Marketi...</td>\n",
       "      <td>2.9</td>\n",
       "      <td>Affinity Solutions\\r\\n2.9</td>\n",
       "      <td>New York, NY</td>\n",
       "      <td>51 to 200 employees</td>\n",
       "      <td>1998</td>\n",
       "      <td>Company - Private</td>\n",
       "      <td>Advertising &amp; Marketing</td>\n",
       "      <td>Business Services</td>\n",
       "      <td>Unknown / Non-Applicable</td>\n",
       "      <td>Commerce Signals, Cardlytics, Yodlee</td>\n",
       "      <td>False</td>\n",
       "      <td>114.5</td>\n",
       "      <td>86.0</td>\n",
       "      <td>86.0</td>\n",
       "      <td>New York</td>\n",
       "      <td>NY</td>\n",
       "    </tr>\n",
       "  </tbody>\n",
       "</table>\n",
       "</div>"
      ],
      "text/plain": [
       "   unnamed: 0                  job title              salary estimate  \\\n",
       "0           0             Data Scientist   $53K-$91K (Glassdoor est.)   \n",
       "1           1  Healthcare Data Scientist  $63K-$112K (Glassdoor est.)   \n",
       "2           2             Data Scientist   $80K-$90K (Glassdoor est.)   \n",
       "3           3             Data Scientist   $56K-$97K (Glassdoor est.)   \n",
       "4           4             Data Scientist  $86K-$143K (Glassdoor est.)   \n",
       "\n",
       "                                     job description  rating  \\\n",
       "0  Data Scientist\\r\\nLocation: Albuquerque, NM\\r\\...     3.8   \n",
       "1  What You Will Do:\\r\\n\\r\\nI. General Summary\\r\\...     3.4   \n",
       "2  KnowBe4, Inc. is a high growth information sec...     4.8   \n",
       "3  *Organization and Job ID**\\r\\nJob ID: 310709\\r...     3.8   \n",
       "4  Data Scientist\\r\\nAffinity Solutions / Marketi...     2.9   \n",
       "\n",
       "                                   company name    headquarters  \\\n",
       "0                      Tecolote Research\\r\\n3.8      Goleta, CA   \n",
       "1  University of Maryland Medical System\\r\\n3.4   Baltimore, MD   \n",
       "2                                KnowBe4\\r\\n4.8  Clearwater, FL   \n",
       "3                                   PNNL\\r\\n3.8    Richland, WA   \n",
       "4                     Affinity Solutions\\r\\n2.9    New York, NY   \n",
       "\n",
       "                     size  founded   type of ownership  \\\n",
       "0   501 to 1000 employees     1973   Company - Private   \n",
       "1        10000+ employees     1984  Other Organization   \n",
       "2   501 to 1000 employees     2010   Company - Private   \n",
       "3  1001 to 5000 employees     1965          Government   \n",
       "4     51 to 200 employees     1998   Company - Private   \n",
       "\n",
       "                           industry                        sector  \\\n",
       "0               Aerospace & Defense           Aerospace & Defense   \n",
       "1  Health Care Services & Hospitals                   Health Care   \n",
       "2                 Security Services             Business Services   \n",
       "3                            Energy  Oil, Gas, Energy & Utilities   \n",
       "4           Advertising & Marketing             Business Services   \n",
       "\n",
       "                            revenue  \\\n",
       "0         $50 to $100 million (USD)   \n",
       "1            $2 to $5 billion (USD)   \n",
       "2        $100 to $500 million (USD)   \n",
       "3  $500 million to $1 billion (USD)   \n",
       "4          Unknown / Non-Applicable   \n",
       "\n",
       "                                         competitors  hourly  salary_average  \\\n",
       "0                                                 -1   False            72.0   \n",
       "1                                                 -1   False            87.5   \n",
       "2                                                 -1   False            85.0   \n",
       "3  Oak Ridge National Laboratory, National Renewa...   False            76.5   \n",
       "4               Commerce Signals, Cardlytics, Yodlee   False           114.5   \n",
       "\n",
       "   salary_min  salary_max         city state  \n",
       "0        53.0        53.0  Albuquerque    NM  \n",
       "1        63.0        63.0    Linthicum    MD  \n",
       "2        80.0        80.0   Clearwater    FL  \n",
       "3        56.0        56.0     Richland    WA  \n",
       "4        86.0        86.0     New York    NY  "
      ]
     },
     "execution_count": 557,
     "metadata": {},
     "output_type": "execute_result"
    }
   ],
   "source": [
    "df.head()"
   ]
  },
  {
   "cell_type": "code",
   "execution_count": 558,
   "metadata": {},
   "outputs": [],
   "source": [
    "pattern2 = re.compile(r\"\\d*\\.?\\d+\") # pattern to parse a decimal number from within a string"
   ]
  },
  {
   "cell_type": "code",
   "execution_count": 559,
   "metadata": {},
   "outputs": [
    {
     "data": {
      "text/plain": [
       "['3.8']"
      ]
     },
     "execution_count": 559,
     "metadata": {},
     "output_type": "execute_result"
    }
   ],
   "source": [
    "pattern2.findall(df[\"company name\"][0])"
   ]
  },
  {
   "cell_type": "code",
   "execution_count": 560,
   "metadata": {},
   "outputs": [],
   "source": [
    "lista4=[]\n",
    "for i in df[\"company name\"]:\n",
    "    x = pattern2.findall(i)\n",
    "    lista4.append(x)\n"
   ]
  },
  {
   "cell_type": "code",
   "execution_count": 561,
   "metadata": {},
   "outputs": [],
   "source": [
    "lista4 = pd.Series(lista4)"
   ]
  },
  {
   "cell_type": "code",
   "execution_count": 562,
   "metadata": {},
   "outputs": [],
   "source": [
    "lista4 = lista4.astype(str).str.replace(\"]\",\"\").str.replace(\"[\",\"\").str.replace(\"'\",\"\")"
   ]
  },
  {
   "cell_type": "code",
   "execution_count": 563,
   "metadata": {},
   "outputs": [],
   "source": [
    "lista5 = [] # parsing decimal number from company column\n",
    "for i in lista4:\n",
    "    if len(i)==3:\n",
    "        i = float(i)\n",
    "        lista5.append(i)\n",
    "    else:\n",
    "        lista5.append(i)"
   ]
  },
  {
   "cell_type": "code",
   "execution_count": 564,
   "metadata": {},
   "outputs": [],
   "source": [
    "lista5 = pd.Series(lista5)"
   ]
  },
  {
   "cell_type": "code",
   "execution_count": 565,
   "metadata": {},
   "outputs": [],
   "source": [
    "df[\"parsed_num\"] = lista5"
   ]
  },
  {
   "cell_type": "code",
   "execution_count": 566,
   "metadata": {},
   "outputs": [],
   "source": [
    "lista6 = [] # changing to datetime if format allows it. Otherwise, dont change anything\n",
    "for i in range(len(df[\"founded\"])):\n",
    "    try:\n",
    "        x=pd.to_datetime(df[\"founded\"][i], format=\"%Y\")\n",
    "        lista6.append(x)\n",
    "    except ValueError:\n",
    "        lista6.append(df[\"founded\"][i])"
   ]
  },
  {
   "cell_type": "code",
   "execution_count": 567,
   "metadata": {},
   "outputs": [
    {
     "data": {
      "text/plain": [
       "751"
      ]
     },
     "execution_count": 567,
     "metadata": {},
     "output_type": "execute_result"
    }
   ],
   "source": [
    "len(lista6)"
   ]
  },
  {
   "cell_type": "code",
   "execution_count": 568,
   "metadata": {},
   "outputs": [],
   "source": [
    "lista7 = [] # Now we obtain the delta times. we had to deal with few -1 values\n",
    "for i in lista6:\n",
    "    if i != -1:\n",
    "        x=round((datetime.now()-i).days/365)\n",
    "        lista7.append(x)\n",
    "    else:\n",
    "        lista7.append(i)"
   ]
  },
  {
   "cell_type": "code",
   "execution_count": 569,
   "metadata": {},
   "outputs": [],
   "source": [
    "df[\"years_old\"] = pd.Series(lista7)"
   ]
  },
  {
   "cell_type": "code",
   "execution_count": 570,
   "metadata": {},
   "outputs": [],
   "source": [
    "df[\"years_old\"].replace(-1,np.nan, inplace=True) # converting those -1 values into nan"
   ]
  },
  {
   "cell_type": "code",
   "execution_count": 571,
   "metadata": {},
   "outputs": [
    {
     "data": {
      "text/plain": [
       "160"
      ]
     },
     "execution_count": 571,
     "metadata": {},
     "output_type": "execute_result"
    }
   ],
   "source": [
    "df[\"salary_average\"].isna().sum()"
   ]
  },
  {
   "cell_type": "code",
   "execution_count": 572,
   "metadata": {},
   "outputs": [
    {
     "data": {
      "text/html": [
       "<div>\n",
       "<style scoped>\n",
       "    .dataframe tbody tr th:only-of-type {\n",
       "        vertical-align: middle;\n",
       "    }\n",
       "\n",
       "    .dataframe tbody tr th {\n",
       "        vertical-align: top;\n",
       "    }\n",
       "\n",
       "    .dataframe thead th {\n",
       "        text-align: right;\n",
       "    }\n",
       "</style>\n",
       "<table border=\"1\" class=\"dataframe\">\n",
       "  <thead>\n",
       "    <tr style=\"text-align: right;\">\n",
       "      <th></th>\n",
       "      <th>unnamed: 0</th>\n",
       "      <th>job title</th>\n",
       "      <th>salary estimate</th>\n",
       "      <th>job description</th>\n",
       "      <th>rating</th>\n",
       "      <th>company name</th>\n",
       "      <th>headquarters</th>\n",
       "      <th>size</th>\n",
       "      <th>founded</th>\n",
       "      <th>type of ownership</th>\n",
       "      <th>industry</th>\n",
       "      <th>sector</th>\n",
       "      <th>revenue</th>\n",
       "      <th>competitors</th>\n",
       "      <th>hourly</th>\n",
       "      <th>salary_average</th>\n",
       "      <th>salary_min</th>\n",
       "      <th>salary_max</th>\n",
       "      <th>city</th>\n",
       "      <th>state</th>\n",
       "      <th>parsed_num</th>\n",
       "      <th>years_old</th>\n",
       "    </tr>\n",
       "  </thead>\n",
       "  <tbody>\n",
       "    <tr>\n",
       "      <th>0</th>\n",
       "      <td>0</td>\n",
       "      <td>Data Scientist</td>\n",
       "      <td>$53K-$91K (Glassdoor est.)</td>\n",
       "      <td>Data Scientist\\r\\nLocation: Albuquerque, NM\\r\\...</td>\n",
       "      <td>3.8</td>\n",
       "      <td>Tecolote Research\\r\\n3.8</td>\n",
       "      <td>Goleta, CA</td>\n",
       "      <td>501 to 1000 employees</td>\n",
       "      <td>1973</td>\n",
       "      <td>Company - Private</td>\n",
       "      <td>Aerospace &amp; Defense</td>\n",
       "      <td>Aerospace &amp; Defense</td>\n",
       "      <td>$50 to $100 million (USD)</td>\n",
       "      <td>-1</td>\n",
       "      <td>False</td>\n",
       "      <td>72.0</td>\n",
       "      <td>53.0</td>\n",
       "      <td>53.0</td>\n",
       "      <td>Albuquerque</td>\n",
       "      <td>NM</td>\n",
       "      <td>3.8</td>\n",
       "      <td>47.0</td>\n",
       "    </tr>\n",
       "    <tr>\n",
       "      <th>1</th>\n",
       "      <td>1</td>\n",
       "      <td>Healthcare Data Scientist</td>\n",
       "      <td>$63K-$112K (Glassdoor est.)</td>\n",
       "      <td>What You Will Do:\\r\\n\\r\\nI. General Summary\\r\\...</td>\n",
       "      <td>3.4</td>\n",
       "      <td>University of Maryland Medical System\\r\\n3.4</td>\n",
       "      <td>Baltimore, MD</td>\n",
       "      <td>10000+ employees</td>\n",
       "      <td>1984</td>\n",
       "      <td>Other Organization</td>\n",
       "      <td>Health Care Services &amp; Hospitals</td>\n",
       "      <td>Health Care</td>\n",
       "      <td>$2 to $5 billion (USD)</td>\n",
       "      <td>-1</td>\n",
       "      <td>False</td>\n",
       "      <td>87.5</td>\n",
       "      <td>63.0</td>\n",
       "      <td>63.0</td>\n",
       "      <td>Linthicum</td>\n",
       "      <td>MD</td>\n",
       "      <td>3.4</td>\n",
       "      <td>36.0</td>\n",
       "    </tr>\n",
       "    <tr>\n",
       "      <th>2</th>\n",
       "      <td>2</td>\n",
       "      <td>Data Scientist</td>\n",
       "      <td>$80K-$90K (Glassdoor est.)</td>\n",
       "      <td>KnowBe4, Inc. is a high growth information sec...</td>\n",
       "      <td>4.8</td>\n",
       "      <td>KnowBe4\\r\\n4.8</td>\n",
       "      <td>Clearwater, FL</td>\n",
       "      <td>501 to 1000 employees</td>\n",
       "      <td>2010</td>\n",
       "      <td>Company - Private</td>\n",
       "      <td>Security Services</td>\n",
       "      <td>Business Services</td>\n",
       "      <td>$100 to $500 million (USD)</td>\n",
       "      <td>-1</td>\n",
       "      <td>False</td>\n",
       "      <td>85.0</td>\n",
       "      <td>80.0</td>\n",
       "      <td>80.0</td>\n",
       "      <td>Clearwater</td>\n",
       "      <td>FL</td>\n",
       "      <td>4, 4.8</td>\n",
       "      <td>10.0</td>\n",
       "    </tr>\n",
       "    <tr>\n",
       "      <th>3</th>\n",
       "      <td>3</td>\n",
       "      <td>Data Scientist</td>\n",
       "      <td>$56K-$97K (Glassdoor est.)</td>\n",
       "      <td>*Organization and Job ID**\\r\\nJob ID: 310709\\r...</td>\n",
       "      <td>3.8</td>\n",
       "      <td>PNNL\\r\\n3.8</td>\n",
       "      <td>Richland, WA</td>\n",
       "      <td>1001 to 5000 employees</td>\n",
       "      <td>1965</td>\n",
       "      <td>Government</td>\n",
       "      <td>Energy</td>\n",
       "      <td>Oil, Gas, Energy &amp; Utilities</td>\n",
       "      <td>$500 million to $1 billion (USD)</td>\n",
       "      <td>Oak Ridge National Laboratory, National Renewa...</td>\n",
       "      <td>False</td>\n",
       "      <td>76.5</td>\n",
       "      <td>56.0</td>\n",
       "      <td>56.0</td>\n",
       "      <td>Richland</td>\n",
       "      <td>WA</td>\n",
       "      <td>3.8</td>\n",
       "      <td>55.0</td>\n",
       "    </tr>\n",
       "    <tr>\n",
       "      <th>4</th>\n",
       "      <td>4</td>\n",
       "      <td>Data Scientist</td>\n",
       "      <td>$86K-$143K (Glassdoor est.)</td>\n",
       "      <td>Data Scientist\\r\\nAffinity Solutions / Marketi...</td>\n",
       "      <td>2.9</td>\n",
       "      <td>Affinity Solutions\\r\\n2.9</td>\n",
       "      <td>New York, NY</td>\n",
       "      <td>51 to 200 employees</td>\n",
       "      <td>1998</td>\n",
       "      <td>Company - Private</td>\n",
       "      <td>Advertising &amp; Marketing</td>\n",
       "      <td>Business Services</td>\n",
       "      <td>Unknown / Non-Applicable</td>\n",
       "      <td>Commerce Signals, Cardlytics, Yodlee</td>\n",
       "      <td>False</td>\n",
       "      <td>114.5</td>\n",
       "      <td>86.0</td>\n",
       "      <td>86.0</td>\n",
       "      <td>New York</td>\n",
       "      <td>NY</td>\n",
       "      <td>2.9</td>\n",
       "      <td>22.0</td>\n",
       "    </tr>\n",
       "  </tbody>\n",
       "</table>\n",
       "</div>"
      ],
      "text/plain": [
       "   unnamed: 0                  job title              salary estimate  \\\n",
       "0           0             Data Scientist   $53K-$91K (Glassdoor est.)   \n",
       "1           1  Healthcare Data Scientist  $63K-$112K (Glassdoor est.)   \n",
       "2           2             Data Scientist   $80K-$90K (Glassdoor est.)   \n",
       "3           3             Data Scientist   $56K-$97K (Glassdoor est.)   \n",
       "4           4             Data Scientist  $86K-$143K (Glassdoor est.)   \n",
       "\n",
       "                                     job description  rating  \\\n",
       "0  Data Scientist\\r\\nLocation: Albuquerque, NM\\r\\...     3.8   \n",
       "1  What You Will Do:\\r\\n\\r\\nI. General Summary\\r\\...     3.4   \n",
       "2  KnowBe4, Inc. is a high growth information sec...     4.8   \n",
       "3  *Organization and Job ID**\\r\\nJob ID: 310709\\r...     3.8   \n",
       "4  Data Scientist\\r\\nAffinity Solutions / Marketi...     2.9   \n",
       "\n",
       "                                   company name    headquarters  \\\n",
       "0                      Tecolote Research\\r\\n3.8      Goleta, CA   \n",
       "1  University of Maryland Medical System\\r\\n3.4   Baltimore, MD   \n",
       "2                                KnowBe4\\r\\n4.8  Clearwater, FL   \n",
       "3                                   PNNL\\r\\n3.8    Richland, WA   \n",
       "4                     Affinity Solutions\\r\\n2.9    New York, NY   \n",
       "\n",
       "                     size  founded   type of ownership  \\\n",
       "0   501 to 1000 employees     1973   Company - Private   \n",
       "1        10000+ employees     1984  Other Organization   \n",
       "2   501 to 1000 employees     2010   Company - Private   \n",
       "3  1001 to 5000 employees     1965          Government   \n",
       "4     51 to 200 employees     1998   Company - Private   \n",
       "\n",
       "                           industry                        sector  \\\n",
       "0               Aerospace & Defense           Aerospace & Defense   \n",
       "1  Health Care Services & Hospitals                   Health Care   \n",
       "2                 Security Services             Business Services   \n",
       "3                            Energy  Oil, Gas, Energy & Utilities   \n",
       "4           Advertising & Marketing             Business Services   \n",
       "\n",
       "                            revenue  \\\n",
       "0         $50 to $100 million (USD)   \n",
       "1            $2 to $5 billion (USD)   \n",
       "2        $100 to $500 million (USD)   \n",
       "3  $500 million to $1 billion (USD)   \n",
       "4          Unknown / Non-Applicable   \n",
       "\n",
       "                                         competitors  hourly  salary_average  \\\n",
       "0                                                 -1   False            72.0   \n",
       "1                                                 -1   False            87.5   \n",
       "2                                                 -1   False            85.0   \n",
       "3  Oak Ridge National Laboratory, National Renewa...   False            76.5   \n",
       "4               Commerce Signals, Cardlytics, Yodlee   False           114.5   \n",
       "\n",
       "   salary_min  salary_max         city state parsed_num  years_old  \n",
       "0        53.0        53.0  Albuquerque    NM        3.8       47.0  \n",
       "1        63.0        63.0    Linthicum    MD        3.4       36.0  \n",
       "2        80.0        80.0   Clearwater    FL     4, 4.8       10.0  \n",
       "3        56.0        56.0     Richland    WA        3.8       55.0  \n",
       "4        86.0        86.0     New York    NY        2.9       22.0  "
      ]
     },
     "execution_count": 572,
     "metadata": {},
     "output_type": "execute_result"
    }
   ],
   "source": [
    "df.head()"
   ]
  },
  {
   "cell_type": "code",
   "execution_count": 573,
   "metadata": {},
   "outputs": [],
   "source": [
    "df[\"company_txt\"] = df.apply(lambda x: x[\"company name\"].replace(\"\\n\",\"\").replace(\"\\r\", \"\") if x[\"rating\"]<0 else x[\"company name\"][:-3].replace(\"\\n\",\"\").replace(\"\\r\", \"\"), axis=1)"
   ]
  },
  {
   "cell_type": "code",
   "execution_count": 574,
   "metadata": {},
   "outputs": [
    {
     "data": {
      "text/html": [
       "<div>\n",
       "<style scoped>\n",
       "    .dataframe tbody tr th:only-of-type {\n",
       "        vertical-align: middle;\n",
       "    }\n",
       "\n",
       "    .dataframe tbody tr th {\n",
       "        vertical-align: top;\n",
       "    }\n",
       "\n",
       "    .dataframe thead th {\n",
       "        text-align: right;\n",
       "    }\n",
       "</style>\n",
       "<table border=\"1\" class=\"dataframe\">\n",
       "  <thead>\n",
       "    <tr style=\"text-align: right;\">\n",
       "      <th></th>\n",
       "      <th>unnamed: 0</th>\n",
       "      <th>job title</th>\n",
       "      <th>salary estimate</th>\n",
       "      <th>job description</th>\n",
       "      <th>rating</th>\n",
       "      <th>company name</th>\n",
       "      <th>headquarters</th>\n",
       "      <th>size</th>\n",
       "      <th>founded</th>\n",
       "      <th>type of ownership</th>\n",
       "      <th>industry</th>\n",
       "      <th>sector</th>\n",
       "      <th>revenue</th>\n",
       "      <th>competitors</th>\n",
       "      <th>hourly</th>\n",
       "      <th>salary_average</th>\n",
       "      <th>salary_min</th>\n",
       "      <th>salary_max</th>\n",
       "      <th>city</th>\n",
       "      <th>state</th>\n",
       "      <th>parsed_num</th>\n",
       "      <th>years_old</th>\n",
       "      <th>company_txt</th>\n",
       "    </tr>\n",
       "  </thead>\n",
       "  <tbody>\n",
       "    <tr>\n",
       "      <th>0</th>\n",
       "      <td>0</td>\n",
       "      <td>Data Scientist</td>\n",
       "      <td>$53K-$91K (Glassdoor est.)</td>\n",
       "      <td>Data Scientist\\r\\nLocation: Albuquerque, NM\\r\\...</td>\n",
       "      <td>3.8</td>\n",
       "      <td>Tecolote Research\\r\\n3.8</td>\n",
       "      <td>Goleta, CA</td>\n",
       "      <td>501 to 1000 employees</td>\n",
       "      <td>1973</td>\n",
       "      <td>Company - Private</td>\n",
       "      <td>Aerospace &amp; Defense</td>\n",
       "      <td>Aerospace &amp; Defense</td>\n",
       "      <td>$50 to $100 million (USD)</td>\n",
       "      <td>-1</td>\n",
       "      <td>False</td>\n",
       "      <td>72.0</td>\n",
       "      <td>53.0</td>\n",
       "      <td>53.0</td>\n",
       "      <td>Albuquerque</td>\n",
       "      <td>NM</td>\n",
       "      <td>3.8</td>\n",
       "      <td>47.0</td>\n",
       "      <td>Tecolote Research</td>\n",
       "    </tr>\n",
       "    <tr>\n",
       "      <th>1</th>\n",
       "      <td>1</td>\n",
       "      <td>Healthcare Data Scientist</td>\n",
       "      <td>$63K-$112K (Glassdoor est.)</td>\n",
       "      <td>What You Will Do:\\r\\n\\r\\nI. General Summary\\r\\...</td>\n",
       "      <td>3.4</td>\n",
       "      <td>University of Maryland Medical System\\r\\n3.4</td>\n",
       "      <td>Baltimore, MD</td>\n",
       "      <td>10000+ employees</td>\n",
       "      <td>1984</td>\n",
       "      <td>Other Organization</td>\n",
       "      <td>Health Care Services &amp; Hospitals</td>\n",
       "      <td>Health Care</td>\n",
       "      <td>$2 to $5 billion (USD)</td>\n",
       "      <td>-1</td>\n",
       "      <td>False</td>\n",
       "      <td>87.5</td>\n",
       "      <td>63.0</td>\n",
       "      <td>63.0</td>\n",
       "      <td>Linthicum</td>\n",
       "      <td>MD</td>\n",
       "      <td>3.4</td>\n",
       "      <td>36.0</td>\n",
       "      <td>University of Maryland Medical System</td>\n",
       "    </tr>\n",
       "    <tr>\n",
       "      <th>2</th>\n",
       "      <td>2</td>\n",
       "      <td>Data Scientist</td>\n",
       "      <td>$80K-$90K (Glassdoor est.)</td>\n",
       "      <td>KnowBe4, Inc. is a high growth information sec...</td>\n",
       "      <td>4.8</td>\n",
       "      <td>KnowBe4\\r\\n4.8</td>\n",
       "      <td>Clearwater, FL</td>\n",
       "      <td>501 to 1000 employees</td>\n",
       "      <td>2010</td>\n",
       "      <td>Company - Private</td>\n",
       "      <td>Security Services</td>\n",
       "      <td>Business Services</td>\n",
       "      <td>$100 to $500 million (USD)</td>\n",
       "      <td>-1</td>\n",
       "      <td>False</td>\n",
       "      <td>85.0</td>\n",
       "      <td>80.0</td>\n",
       "      <td>80.0</td>\n",
       "      <td>Clearwater</td>\n",
       "      <td>FL</td>\n",
       "      <td>4, 4.8</td>\n",
       "      <td>10.0</td>\n",
       "      <td>KnowBe4</td>\n",
       "    </tr>\n",
       "    <tr>\n",
       "      <th>3</th>\n",
       "      <td>3</td>\n",
       "      <td>Data Scientist</td>\n",
       "      <td>$56K-$97K (Glassdoor est.)</td>\n",
       "      <td>*Organization and Job ID**\\r\\nJob ID: 310709\\r...</td>\n",
       "      <td>3.8</td>\n",
       "      <td>PNNL\\r\\n3.8</td>\n",
       "      <td>Richland, WA</td>\n",
       "      <td>1001 to 5000 employees</td>\n",
       "      <td>1965</td>\n",
       "      <td>Government</td>\n",
       "      <td>Energy</td>\n",
       "      <td>Oil, Gas, Energy &amp; Utilities</td>\n",
       "      <td>$500 million to $1 billion (USD)</td>\n",
       "      <td>Oak Ridge National Laboratory, National Renewa...</td>\n",
       "      <td>False</td>\n",
       "      <td>76.5</td>\n",
       "      <td>56.0</td>\n",
       "      <td>56.0</td>\n",
       "      <td>Richland</td>\n",
       "      <td>WA</td>\n",
       "      <td>3.8</td>\n",
       "      <td>55.0</td>\n",
       "      <td>PNNL</td>\n",
       "    </tr>\n",
       "    <tr>\n",
       "      <th>4</th>\n",
       "      <td>4</td>\n",
       "      <td>Data Scientist</td>\n",
       "      <td>$86K-$143K (Glassdoor est.)</td>\n",
       "      <td>Data Scientist\\r\\nAffinity Solutions / Marketi...</td>\n",
       "      <td>2.9</td>\n",
       "      <td>Affinity Solutions\\r\\n2.9</td>\n",
       "      <td>New York, NY</td>\n",
       "      <td>51 to 200 employees</td>\n",
       "      <td>1998</td>\n",
       "      <td>Company - Private</td>\n",
       "      <td>Advertising &amp; Marketing</td>\n",
       "      <td>Business Services</td>\n",
       "      <td>Unknown / Non-Applicable</td>\n",
       "      <td>Commerce Signals, Cardlytics, Yodlee</td>\n",
       "      <td>False</td>\n",
       "      <td>114.5</td>\n",
       "      <td>86.0</td>\n",
       "      <td>86.0</td>\n",
       "      <td>New York</td>\n",
       "      <td>NY</td>\n",
       "      <td>2.9</td>\n",
       "      <td>22.0</td>\n",
       "      <td>Affinity Solutions</td>\n",
       "    </tr>\n",
       "    <tr>\n",
       "      <th>...</th>\n",
       "      <td>...</td>\n",
       "      <td>...</td>\n",
       "      <td>...</td>\n",
       "      <td>...</td>\n",
       "      <td>...</td>\n",
       "      <td>...</td>\n",
       "      <td>...</td>\n",
       "      <td>...</td>\n",
       "      <td>...</td>\n",
       "      <td>...</td>\n",
       "      <td>...</td>\n",
       "      <td>...</td>\n",
       "      <td>...</td>\n",
       "      <td>...</td>\n",
       "      <td>...</td>\n",
       "      <td>...</td>\n",
       "      <td>...</td>\n",
       "      <td>...</td>\n",
       "      <td>...</td>\n",
       "      <td>...</td>\n",
       "      <td>...</td>\n",
       "      <td>...</td>\n",
       "      <td>...</td>\n",
       "    </tr>\n",
       "    <tr>\n",
       "      <th>746</th>\n",
       "      <td>746</td>\n",
       "      <td>Technology-Minded, Data Professional Opportuni...</td>\n",
       "      <td>$40K-$101K (Glassdoor est.)</td>\n",
       "      <td>At VU, we help Veterans buy homes. To make tha...</td>\n",
       "      <td>4.7</td>\n",
       "      <td>Veterans United Home Loans\\r\\n4.7</td>\n",
       "      <td>Columbia, MO</td>\n",
       "      <td>1001 to 5000 employees</td>\n",
       "      <td>2002</td>\n",
       "      <td>Company - Private</td>\n",
       "      <td>Lending</td>\n",
       "      <td>Finance</td>\n",
       "      <td>Unknown / Non-Applicable</td>\n",
       "      <td>-1</td>\n",
       "      <td>False</td>\n",
       "      <td>70.5</td>\n",
       "      <td>40.0</td>\n",
       "      <td>40.0</td>\n",
       "      <td>Columbia</td>\n",
       "      <td>MO</td>\n",
       "      <td>4.7</td>\n",
       "      <td>18.0</td>\n",
       "      <td>Veterans United Home Loans</td>\n",
       "    </tr>\n",
       "    <tr>\n",
       "      <th>747</th>\n",
       "      <td>747</td>\n",
       "      <td>Big Data Engineer</td>\n",
       "      <td>$84K-$153K (Glassdoor est.)</td>\n",
       "      <td>Overview\\r\\n\\r\\n\\r\\nTechnology is constantly c...</td>\n",
       "      <td>3.3</td>\n",
       "      <td>Peraton\\r\\n3.3</td>\n",
       "      <td>Herndon, VA</td>\n",
       "      <td>1001 to 5000 employees</td>\n",
       "      <td>2017</td>\n",
       "      <td>Company - Private</td>\n",
       "      <td>Aerospace &amp; Defense</td>\n",
       "      <td>Aerospace &amp; Defense</td>\n",
       "      <td>$1 to $2 billion (USD)</td>\n",
       "      <td>-1</td>\n",
       "      <td>False</td>\n",
       "      <td>118.5</td>\n",
       "      <td>84.0</td>\n",
       "      <td>84.0</td>\n",
       "      <td>Chantilly</td>\n",
       "      <td>VA</td>\n",
       "      <td>3.3</td>\n",
       "      <td>3.0</td>\n",
       "      <td>Peraton</td>\n",
       "    </tr>\n",
       "    <tr>\n",
       "      <th>748</th>\n",
       "      <td>748</td>\n",
       "      <td>Salesforce Analytics Consultant</td>\n",
       "      <td>$52K-$81K (Glassdoor est.)</td>\n",
       "      <td>Wave6, an Emtec company, innovates with cuttin...</td>\n",
       "      <td>3.9</td>\n",
       "      <td>Emtec, Inc.\\r\\n3.9</td>\n",
       "      <td>Jacksonville, FL</td>\n",
       "      <td>501 to 1000 employees</td>\n",
       "      <td>1995</td>\n",
       "      <td>Company - Private</td>\n",
       "      <td>Enterprise Software &amp; Network Solutions</td>\n",
       "      <td>Information Technology</td>\n",
       "      <td>$100 to $500 million (USD)</td>\n",
       "      <td>-1</td>\n",
       "      <td>False</td>\n",
       "      <td>66.5</td>\n",
       "      <td>52.0</td>\n",
       "      <td>52.0</td>\n",
       "      <td>Chicago</td>\n",
       "      <td>IL</td>\n",
       "      <td>3.9</td>\n",
       "      <td>25.0</td>\n",
       "      <td>Emtec, Inc.</td>\n",
       "    </tr>\n",
       "    <tr>\n",
       "      <th>749</th>\n",
       "      <td>749</td>\n",
       "      <td>Managing Data Scientist/ML Engineer</td>\n",
       "      <td>$81K-$134K (Glassdoor est.)</td>\n",
       "      <td>Managing Data Scientist/ML Engineer\\r\\n\\r\\nApp...</td>\n",
       "      <td>3.4</td>\n",
       "      <td>PA Consulting\\r\\n3.4</td>\n",
       "      <td>London, United Kingdom</td>\n",
       "      <td>1001 to 5000 employees</td>\n",
       "      <td>1943</td>\n",
       "      <td>Company - Private</td>\n",
       "      <td>Consulting</td>\n",
       "      <td>Business Services</td>\n",
       "      <td>$100 to $500 million (USD)</td>\n",
       "      <td>McKinsey &amp; Company, Accenture, Deloitte</td>\n",
       "      <td>False</td>\n",
       "      <td>107.5</td>\n",
       "      <td>81.0</td>\n",
       "      <td>81.0</td>\n",
       "      <td>Boston</td>\n",
       "      <td>MA</td>\n",
       "      <td>3.4</td>\n",
       "      <td>77.0</td>\n",
       "      <td>PA Consulting</td>\n",
       "    </tr>\n",
       "    <tr>\n",
       "      <th>750</th>\n",
       "      <td>750</td>\n",
       "      <td>Senior Data Engineer</td>\n",
       "      <td>$97K-$180K (Glassdoor est.)</td>\n",
       "      <td>Position Overview: From software hacking to ha...</td>\n",
       "      <td>4.7</td>\n",
       "      <td>Praetorian\\r\\n4.7</td>\n",
       "      <td>Austin, TX</td>\n",
       "      <td>51 to 200 employees</td>\n",
       "      <td>2010</td>\n",
       "      <td>Company - Private</td>\n",
       "      <td>Security Services</td>\n",
       "      <td>Business Services</td>\n",
       "      <td>$10 to $25 million (USD)</td>\n",
       "      <td>-1</td>\n",
       "      <td>False</td>\n",
       "      <td>138.5</td>\n",
       "      <td>97.0</td>\n",
       "      <td>97.0</td>\n",
       "      <td>Austin</td>\n",
       "      <td>TX</td>\n",
       "      <td>4.7</td>\n",
       "      <td>10.0</td>\n",
       "      <td>Praetorian</td>\n",
       "    </tr>\n",
       "  </tbody>\n",
       "</table>\n",
       "<p>751 rows × 23 columns</p>\n",
       "</div>"
      ],
      "text/plain": [
       "     unnamed: 0                                          job title  \\\n",
       "0             0                                     Data Scientist   \n",
       "1             1                          Healthcare Data Scientist   \n",
       "2             2                                     Data Scientist   \n",
       "3             3                                     Data Scientist   \n",
       "4             4                                     Data Scientist   \n",
       "..          ...                                                ...   \n",
       "746         746  Technology-Minded, Data Professional Opportuni...   \n",
       "747         747                                  Big Data Engineer   \n",
       "748         748                    Salesforce Analytics Consultant   \n",
       "749         749                Managing Data Scientist/ML Engineer   \n",
       "750         750                               Senior Data Engineer   \n",
       "\n",
       "                 salary estimate  \\\n",
       "0     $53K-$91K (Glassdoor est.)   \n",
       "1    $63K-$112K (Glassdoor est.)   \n",
       "2     $80K-$90K (Glassdoor est.)   \n",
       "3     $56K-$97K (Glassdoor est.)   \n",
       "4    $86K-$143K (Glassdoor est.)   \n",
       "..                           ...   \n",
       "746  $40K-$101K (Glassdoor est.)   \n",
       "747  $84K-$153K (Glassdoor est.)   \n",
       "748   $52K-$81K (Glassdoor est.)   \n",
       "749  $81K-$134K (Glassdoor est.)   \n",
       "750  $97K-$180K (Glassdoor est.)   \n",
       "\n",
       "                                       job description  rating  \\\n",
       "0    Data Scientist\\r\\nLocation: Albuquerque, NM\\r\\...     3.8   \n",
       "1    What You Will Do:\\r\\n\\r\\nI. General Summary\\r\\...     3.4   \n",
       "2    KnowBe4, Inc. is a high growth information sec...     4.8   \n",
       "3    *Organization and Job ID**\\r\\nJob ID: 310709\\r...     3.8   \n",
       "4    Data Scientist\\r\\nAffinity Solutions / Marketi...     2.9   \n",
       "..                                                 ...     ...   \n",
       "746  At VU, we help Veterans buy homes. To make tha...     4.7   \n",
       "747  Overview\\r\\n\\r\\n\\r\\nTechnology is constantly c...     3.3   \n",
       "748  Wave6, an Emtec company, innovates with cuttin...     3.9   \n",
       "749  Managing Data Scientist/ML Engineer\\r\\n\\r\\nApp...     3.4   \n",
       "750  Position Overview: From software hacking to ha...     4.7   \n",
       "\n",
       "                                     company name            headquarters  \\\n",
       "0                        Tecolote Research\\r\\n3.8              Goleta, CA   \n",
       "1    University of Maryland Medical System\\r\\n3.4           Baltimore, MD   \n",
       "2                                  KnowBe4\\r\\n4.8          Clearwater, FL   \n",
       "3                                     PNNL\\r\\n3.8            Richland, WA   \n",
       "4                       Affinity Solutions\\r\\n2.9            New York, NY   \n",
       "..                                            ...                     ...   \n",
       "746             Veterans United Home Loans\\r\\n4.7            Columbia, MO   \n",
       "747                                Peraton\\r\\n3.3             Herndon, VA   \n",
       "748                            Emtec, Inc.\\r\\n3.9        Jacksonville, FL   \n",
       "749                          PA Consulting\\r\\n3.4  London, United Kingdom   \n",
       "750                             Praetorian\\r\\n4.7              Austin, TX   \n",
       "\n",
       "                       size  founded   type of ownership  \\\n",
       "0     501 to 1000 employees     1973   Company - Private   \n",
       "1          10000+ employees     1984  Other Organization   \n",
       "2     501 to 1000 employees     2010   Company - Private   \n",
       "3    1001 to 5000 employees     1965          Government   \n",
       "4       51 to 200 employees     1998   Company - Private   \n",
       "..                      ...      ...                 ...   \n",
       "746  1001 to 5000 employees     2002   Company - Private   \n",
       "747  1001 to 5000 employees     2017   Company - Private   \n",
       "748   501 to 1000 employees     1995   Company - Private   \n",
       "749  1001 to 5000 employees     1943   Company - Private   \n",
       "750     51 to 200 employees     2010   Company - Private   \n",
       "\n",
       "                                    industry                        sector  \\\n",
       "0                        Aerospace & Defense           Aerospace & Defense   \n",
       "1           Health Care Services & Hospitals                   Health Care   \n",
       "2                          Security Services             Business Services   \n",
       "3                                     Energy  Oil, Gas, Energy & Utilities   \n",
       "4                    Advertising & Marketing             Business Services   \n",
       "..                                       ...                           ...   \n",
       "746                                  Lending                       Finance   \n",
       "747                      Aerospace & Defense           Aerospace & Defense   \n",
       "748  Enterprise Software & Network Solutions        Information Technology   \n",
       "749                               Consulting             Business Services   \n",
       "750                        Security Services             Business Services   \n",
       "\n",
       "                              revenue  \\\n",
       "0           $50 to $100 million (USD)   \n",
       "1              $2 to $5 billion (USD)   \n",
       "2          $100 to $500 million (USD)   \n",
       "3    $500 million to $1 billion (USD)   \n",
       "4            Unknown / Non-Applicable   \n",
       "..                                ...   \n",
       "746          Unknown / Non-Applicable   \n",
       "747            $1 to $2 billion (USD)   \n",
       "748        $100 to $500 million (USD)   \n",
       "749        $100 to $500 million (USD)   \n",
       "750          $10 to $25 million (USD)   \n",
       "\n",
       "                                           competitors  hourly  \\\n",
       "0                                                   -1   False   \n",
       "1                                                   -1   False   \n",
       "2                                                   -1   False   \n",
       "3    Oak Ridge National Laboratory, National Renewa...   False   \n",
       "4                 Commerce Signals, Cardlytics, Yodlee   False   \n",
       "..                                                 ...     ...   \n",
       "746                                                 -1   False   \n",
       "747                                                 -1   False   \n",
       "748                                                 -1   False   \n",
       "749            McKinsey & Company, Accenture, Deloitte   False   \n",
       "750                                                 -1   False   \n",
       "\n",
       "     salary_average  salary_min  salary_max         city state parsed_num  \\\n",
       "0              72.0        53.0        53.0  Albuquerque    NM        3.8   \n",
       "1              87.5        63.0        63.0    Linthicum    MD        3.4   \n",
       "2              85.0        80.0        80.0   Clearwater    FL     4, 4.8   \n",
       "3              76.5        56.0        56.0     Richland    WA        3.8   \n",
       "4             114.5        86.0        86.0     New York    NY        2.9   \n",
       "..              ...         ...         ...          ...   ...        ...   \n",
       "746            70.5        40.0        40.0     Columbia    MO        4.7   \n",
       "747           118.5        84.0        84.0    Chantilly    VA        3.3   \n",
       "748            66.5        52.0        52.0      Chicago    IL        3.9   \n",
       "749           107.5        81.0        81.0       Boston    MA        3.4   \n",
       "750           138.5        97.0        97.0       Austin    TX        4.7   \n",
       "\n",
       "     years_old                            company_txt  \n",
       "0         47.0                      Tecolote Research  \n",
       "1         36.0  University of Maryland Medical System  \n",
       "2         10.0                                KnowBe4  \n",
       "3         55.0                                   PNNL  \n",
       "4         22.0                     Affinity Solutions  \n",
       "..         ...                                    ...  \n",
       "746       18.0             Veterans United Home Loans  \n",
       "747        3.0                                Peraton  \n",
       "748       25.0                            Emtec, Inc.  \n",
       "749       77.0                          PA Consulting  \n",
       "750       10.0                             Praetorian  \n",
       "\n",
       "[751 rows x 23 columns]"
      ]
     },
     "execution_count": 574,
     "metadata": {},
     "output_type": "execute_result"
    }
   ],
   "source": [
    "df"
   ]
  },
  {
   "cell_type": "code",
   "execution_count": 575,
   "metadata": {},
   "outputs": [],
   "source": [
    "df[\"python\"] = df[\"job description\"].apply(lambda x: True if \"python\" in x.lower() else False)"
   ]
  },
  {
   "cell_type": "code",
   "execution_count": 576,
   "metadata": {},
   "outputs": [],
   "source": [
    "df[\"R studio\"] = df[\"job description\"].apply(lambda x: True if \" R \" in x or \"r-studio\" in x.lower() else False)"
   ]
  },
  {
   "cell_type": "code",
   "execution_count": 577,
   "metadata": {},
   "outputs": [],
   "source": [
    "df[\"spark\"] = df[\"job description\"].apply(lambda x: True if \"spark\" in x.lower() else False)"
   ]
  },
  {
   "cell_type": "code",
   "execution_count": 578,
   "metadata": {},
   "outputs": [],
   "source": [
    "df[\"aws\"] = df[\"job description\"].apply(lambda x: True if \"aws\" in x.lower() else False)"
   ]
  },
  {
   "cell_type": "code",
   "execution_count": 579,
   "metadata": {},
   "outputs": [],
   "source": [
    "df[\"excell\"] = df[\"job description\"].apply(lambda x: True if \"excell\" in x.lower() else False)"
   ]
  },
  {
   "cell_type": "code",
   "execution_count": 580,
   "metadata": {},
   "outputs": [],
   "source": [
    "df[\"SQL\"] = df[\"job description\"].apply(lambda x: True if \"sql\" in x.lower() else False)"
   ]
  },
  {
   "cell_type": "code",
   "execution_count": null,
   "metadata": {},
   "outputs": [],
   "source": []
  },
  {
   "cell_type": "code",
   "execution_count": 581,
   "metadata": {},
   "outputs": [
    {
     "data": {
      "text/plain": [
       "True     385\n",
       "False    366\n",
       "Name: SQL, dtype: int64"
      ]
     },
     "execution_count": 581,
     "metadata": {},
     "output_type": "execute_result"
    }
   ],
   "source": [
    "df[\"SQL\"].value_counts()"
   ]
  },
  {
   "cell_type": "code",
   "execution_count": 582,
   "metadata": {},
   "outputs": [],
   "source": [
    "lista_sql = pd.Series([True if \"SQL\" in df[\"job description\"][i] else False for i in range(len(df[\"job description\"]))]) # list comprehension with else statement "
   ]
  },
  {
   "cell_type": "code",
   "execution_count": 583,
   "metadata": {},
   "outputs": [
    {
     "data": {
      "text/plain": [
       "True     385\n",
       "False    366\n",
       "dtype: int64"
      ]
     },
     "execution_count": 583,
     "metadata": {},
     "output_type": "execute_result"
    }
   ],
   "source": [
    "lista_sql.value_counts()"
   ]
  },
  {
   "cell_type": "code",
   "execution_count": 584,
   "metadata": {},
   "outputs": [],
   "source": [
    "df = df.drop(\"unnamed: 0\", axis=1)"
   ]
  },
  {
   "cell_type": "code",
   "execution_count": 585,
   "metadata": {},
   "outputs": [],
   "source": [
    "# lets create a function that help us to generate a column with job positions\n",
    "# grouped in 7 different categories\n",
    "\n",
    "def title_categorizer(title):\n",
    "    if \"data scientist\" in title.lower():\n",
    "        return \"data scientist\"\n",
    "    elif \"data engineer\" in title.lower():\n",
    "        return \"data engineer\"\n",
    "    elif \"analyst\" in title.lower():\n",
    "        return \"analyst\"\n",
    "    elif \"machine learning\" in title.lower():\n",
    "        return \"ML\"\n",
    "    elif \"manager\" in title.lower():\n",
    "        return \"manager\"\n",
    "    elif \"director\" in title.lower():\n",
    "        return \"director\"\n",
    "    else:\n",
    "        return np.nan"
   ]
  },
  {
   "cell_type": "code",
   "execution_count": 586,
   "metadata": {},
   "outputs": [],
   "source": [
    "# we will also create a function to categorise the level of experience of the positions\n",
    "# This is how we can parse specific info from a column\n",
    "def experience(title):\n",
    "    if \"sr\" in title.lower() or \"senior\" in title.lower() or \"lead\" in title.lower()  or \"manager\" in title.lower()  or \"principal\" in title.lower() or \"chief\" in title.lower():\n",
    "        return \"senior\"\n",
    "    elif \"jr\" in title.lower() or \"junior\" in title.lower():\n",
    "        return \"junior\"\n",
    "    else:\n",
    "        return np.nan"
   ]
  },
  {
   "cell_type": "code",
   "execution_count": 587,
   "metadata": {},
   "outputs": [],
   "source": [
    "df[\"title_category\"] = df[\"job title\"].apply(title_categorizer)"
   ]
  },
  {
   "cell_type": "code",
   "execution_count": 588,
   "metadata": {},
   "outputs": [
    {
     "data": {
      "text/plain": [
       "data scientist    295\n",
       "NaN               178\n",
       "data engineer     125\n",
       "analyst            99\n",
       "manager            24\n",
       "ML                 20\n",
       "director           10\n",
       "Name: title_category, dtype: int64"
      ]
     },
     "execution_count": 588,
     "metadata": {},
     "output_type": "execute_result"
    }
   ],
   "source": [
    "df[\"title_category\"].value_counts(dropna=False)"
   ]
  },
  {
   "cell_type": "code",
   "execution_count": 589,
   "metadata": {},
   "outputs": [],
   "source": [
    "df[\"experience_level\"] = df[\"job title\"].apply(experience)"
   ]
  },
  {
   "cell_type": "code",
   "execution_count": 590,
   "metadata": {},
   "outputs": [
    {
     "data": {
      "text/plain": [
       "NaN       520\n",
       "senior    229\n",
       "junior      2\n",
       "Name: experience_level, dtype: int64"
      ]
     },
     "execution_count": 590,
     "metadata": {},
     "output_type": "execute_result"
    }
   ],
   "source": [
    "df[\"experience_level\"].value_counts(dropna=False)"
   ]
  },
  {
   "cell_type": "code",
   "execution_count": 591,
   "metadata": {},
   "outputs": [],
   "source": [
    "df[\"state\"] = df[\"state\"].str.replace(\"Los Angeles\", \"CA\") # Replacing Los Angeles for LA because there was one Los Angeles instead of LA\n",
    "df[\"state\"] = df[\"state\"].str.strip() # this will remove white spaces in the column"
   ]
  },
  {
   "cell_type": "code",
   "execution_count": 592,
   "metadata": {},
   "outputs": [],
   "source": [
    "df.columns = df.columns.str.replace(\" \", \"_\") # Lets remove spaces and replace them with _ for consistancy"
   ]
  },
  {
   "cell_type": "code",
   "execution_count": 593,
   "metadata": {},
   "outputs": [],
   "source": [
    "# also lets create a new column with the len of the description since it can be an interesting parameter\n",
    "df[\"description_len\"] = df[\"job_description\"].str.len()"
   ]
  },
  {
   "cell_type": "code",
   "execution_count": 594,
   "metadata": {},
   "outputs": [],
   "source": [
    "# Create a column with the number of competitors\n",
    "df[\"compet_nums\"] = df[\"competitors\"].apply(lambda x: len(x.split(\",\")) if x != \"-1\" else 0)"
   ]
  },
  {
   "cell_type": "code",
   "execution_count": 595,
   "metadata": {},
   "outputs": [
    {
     "data": {
      "text/plain": [
       "Index(['job_title', 'salary_estimate', 'job_description', 'rating',\n",
       "       'company_name', 'headquarters', 'size', 'founded', 'type_of_ownership',\n",
       "       'industry', 'sector', 'revenue', 'competitors', 'hourly',\n",
       "       'salary_average', 'salary_min', 'salary_max', 'city', 'state',\n",
       "       'parsed_num', 'years_old', 'company_txt', 'python', 'R_studio', 'spark',\n",
       "       'aws', 'excell', 'SQL', 'title_category', 'experience_level',\n",
       "       'description_len', 'compet_nums'],\n",
       "      dtype='object')"
      ]
     },
     "execution_count": 595,
     "metadata": {},
     "output_type": "execute_result"
    }
   ],
   "source": [
    "df.columns"
   ]
  },
  {
   "cell_type": "code",
   "execution_count": 596,
   "metadata": {},
   "outputs": [],
   "source": [
    "# another thing that we should do it to recalculate the hourly salaries to annual.\n",
    "# We can do this as follows\n",
    "df[\"salary_min\"] = df.apply(lambda x: x[\"salary_min\"]*2 if x[\"hourly\"] == 1 else x[\"salary_min\"], axis=1)\n",
    "df[\"salary_max\"] = df.apply(lambda x: x[\"salary_max\"]*2 if x[\"hourly\"] == 1 else x[\"salary_max\"], axis=1)"
   ]
  },
  {
   "cell_type": "code",
   "execution_count": 597,
   "metadata": {},
   "outputs": [
    {
     "data": {
      "text/html": [
       "<div>\n",
       "<style scoped>\n",
       "    .dataframe tbody tr th:only-of-type {\n",
       "        vertical-align: middle;\n",
       "    }\n",
       "\n",
       "    .dataframe tbody tr th {\n",
       "        vertical-align: top;\n",
       "    }\n",
       "\n",
       "    .dataframe thead th {\n",
       "        text-align: right;\n",
       "    }\n",
       "</style>\n",
       "<table border=\"1\" class=\"dataframe\">\n",
       "  <thead>\n",
       "    <tr style=\"text-align: right;\">\n",
       "      <th></th>\n",
       "      <th>hourly</th>\n",
       "      <th>salary_min</th>\n",
       "      <th>salary_max</th>\n",
       "    </tr>\n",
       "  </thead>\n",
       "  <tbody>\n",
       "    <tr>\n",
       "      <th>197</th>\n",
       "      <td>True</td>\n",
       "      <td>34.0</td>\n",
       "      <td>34.0</td>\n",
       "    </tr>\n",
       "    <tr>\n",
       "      <th>209</th>\n",
       "      <td>True</td>\n",
       "      <td>42.0</td>\n",
       "      <td>42.0</td>\n",
       "    </tr>\n",
       "    <tr>\n",
       "      <th>240</th>\n",
       "      <td>True</td>\n",
       "      <td>36.0</td>\n",
       "      <td>36.0</td>\n",
       "    </tr>\n",
       "    <tr>\n",
       "      <th>247</th>\n",
       "      <td>True</td>\n",
       "      <td>42.0</td>\n",
       "      <td>42.0</td>\n",
       "    </tr>\n",
       "    <tr>\n",
       "      <th>257</th>\n",
       "      <td>True</td>\n",
       "      <td>30.0</td>\n",
       "      <td>30.0</td>\n",
       "    </tr>\n",
       "    <tr>\n",
       "      <th>307</th>\n",
       "      <td>True</td>\n",
       "      <td>34.0</td>\n",
       "      <td>34.0</td>\n",
       "    </tr>\n",
       "    <tr>\n",
       "      <th>337</th>\n",
       "      <td>True</td>\n",
       "      <td>42.0</td>\n",
       "      <td>42.0</td>\n",
       "    </tr>\n",
       "    <tr>\n",
       "      <th>427</th>\n",
       "      <td>True</td>\n",
       "      <td>36.0</td>\n",
       "      <td>36.0</td>\n",
       "    </tr>\n",
       "    <tr>\n",
       "      <th>437</th>\n",
       "      <td>True</td>\n",
       "      <td>48.0</td>\n",
       "      <td>48.0</td>\n",
       "    </tr>\n",
       "    <tr>\n",
       "      <th>456</th>\n",
       "      <td>True</td>\n",
       "      <td>42.0</td>\n",
       "      <td>42.0</td>\n",
       "    </tr>\n",
       "    <tr>\n",
       "      <th>464</th>\n",
       "      <td>True</td>\n",
       "      <td>50.0</td>\n",
       "      <td>50.0</td>\n",
       "    </tr>\n",
       "    <tr>\n",
       "      <th>522</th>\n",
       "      <td>True</td>\n",
       "      <td>42.0</td>\n",
       "      <td>42.0</td>\n",
       "    </tr>\n",
       "    <tr>\n",
       "      <th>523</th>\n",
       "      <td>True</td>\n",
       "      <td>20.0</td>\n",
       "      <td>20.0</td>\n",
       "    </tr>\n",
       "    <tr>\n",
       "      <th>632</th>\n",
       "      <td>True</td>\n",
       "      <td>36.0</td>\n",
       "      <td>36.0</td>\n",
       "    </tr>\n",
       "    <tr>\n",
       "      <th>652</th>\n",
       "      <td>True</td>\n",
       "      <td>48.0</td>\n",
       "      <td>48.0</td>\n",
       "    </tr>\n",
       "    <tr>\n",
       "      <th>682</th>\n",
       "      <td>True</td>\n",
       "      <td>42.0</td>\n",
       "      <td>42.0</td>\n",
       "    </tr>\n",
       "    <tr>\n",
       "      <th>694</th>\n",
       "      <td>True</td>\n",
       "      <td>50.0</td>\n",
       "      <td>50.0</td>\n",
       "    </tr>\n",
       "  </tbody>\n",
       "</table>\n",
       "</div>"
      ],
      "text/plain": [
       "     hourly  salary_min  salary_max\n",
       "197    True        34.0        34.0\n",
       "209    True        42.0        42.0\n",
       "240    True        36.0        36.0\n",
       "247    True        42.0        42.0\n",
       "257    True        30.0        30.0\n",
       "307    True        34.0        34.0\n",
       "337    True        42.0        42.0\n",
       "427    True        36.0        36.0\n",
       "437    True        48.0        48.0\n",
       "456    True        42.0        42.0\n",
       "464    True        50.0        50.0\n",
       "522    True        42.0        42.0\n",
       "523    True        20.0        20.0\n",
       "632    True        36.0        36.0\n",
       "652    True        48.0        48.0\n",
       "682    True        42.0        42.0\n",
       "694    True        50.0        50.0"
      ]
     },
     "execution_count": 597,
     "metadata": {},
     "output_type": "execute_result"
    }
   ],
   "source": [
    "df.loc[df[\"hourly\"]==1,[\"hourly\", \"salary_min\", \"salary_max\"]] # We just check if min < max after this adjustment"
   ]
  },
  {
   "cell_type": "code",
   "execution_count": 598,
   "metadata": {},
   "outputs": [
    {
     "data": {
      "text/html": [
       "<div>\n",
       "<style scoped>\n",
       "    .dataframe tbody tr th:only-of-type {\n",
       "        vertical-align: middle;\n",
       "    }\n",
       "\n",
       "    .dataframe tbody tr th {\n",
       "        vertical-align: top;\n",
       "    }\n",
       "\n",
       "    .dataframe thead th {\n",
       "        text-align: right;\n",
       "    }\n",
       "</style>\n",
       "<table border=\"1\" class=\"dataframe\">\n",
       "  <thead>\n",
       "    <tr style=\"text-align: right;\">\n",
       "      <th></th>\n",
       "      <th>job_title</th>\n",
       "      <th>salary_estimate</th>\n",
       "      <th>job_description</th>\n",
       "      <th>rating</th>\n",
       "      <th>company_name</th>\n",
       "      <th>headquarters</th>\n",
       "      <th>size</th>\n",
       "      <th>founded</th>\n",
       "      <th>type_of_ownership</th>\n",
       "      <th>industry</th>\n",
       "      <th>sector</th>\n",
       "      <th>revenue</th>\n",
       "      <th>competitors</th>\n",
       "      <th>hourly</th>\n",
       "      <th>salary_average</th>\n",
       "      <th>salary_min</th>\n",
       "      <th>salary_max</th>\n",
       "      <th>city</th>\n",
       "      <th>state</th>\n",
       "      <th>parsed_num</th>\n",
       "      <th>years_old</th>\n",
       "      <th>company_txt</th>\n",
       "      <th>python</th>\n",
       "      <th>R_studio</th>\n",
       "      <th>spark</th>\n",
       "      <th>aws</th>\n",
       "      <th>excell</th>\n",
       "      <th>SQL</th>\n",
       "      <th>title_category</th>\n",
       "      <th>experience_level</th>\n",
       "      <th>description_len</th>\n",
       "      <th>compet_nums</th>\n",
       "    </tr>\n",
       "  </thead>\n",
       "  <tbody>\n",
       "    <tr>\n",
       "      <th>0</th>\n",
       "      <td>Data Scientist</td>\n",
       "      <td>$53K-$91K (Glassdoor est.)</td>\n",
       "      <td>Data Scientist\\r\\nLocation: Albuquerque, NM\\r\\...</td>\n",
       "      <td>3.8</td>\n",
       "      <td>Tecolote Research\\r\\n3.8</td>\n",
       "      <td>Goleta, CA</td>\n",
       "      <td>501 to 1000 employees</td>\n",
       "      <td>1973</td>\n",
       "      <td>Company - Private</td>\n",
       "      <td>Aerospace &amp; Defense</td>\n",
       "      <td>Aerospace &amp; Defense</td>\n",
       "      <td>$50 to $100 million (USD)</td>\n",
       "      <td>-1</td>\n",
       "      <td>False</td>\n",
       "      <td>72.0</td>\n",
       "      <td>53.0</td>\n",
       "      <td>53.0</td>\n",
       "      <td>Albuquerque</td>\n",
       "      <td>NM</td>\n",
       "      <td>3.8</td>\n",
       "      <td>47.0</td>\n",
       "      <td>Tecolote Research</td>\n",
       "      <td>True</td>\n",
       "      <td>False</td>\n",
       "      <td>False</td>\n",
       "      <td>False</td>\n",
       "      <td>True</td>\n",
       "      <td>False</td>\n",
       "      <td>data scientist</td>\n",
       "      <td>NaN</td>\n",
       "      <td>2555</td>\n",
       "      <td>0</td>\n",
       "    </tr>\n",
       "    <tr>\n",
       "      <th>1</th>\n",
       "      <td>Healthcare Data Scientist</td>\n",
       "      <td>$63K-$112K (Glassdoor est.)</td>\n",
       "      <td>What You Will Do:\\r\\n\\r\\nI. General Summary\\r\\...</td>\n",
       "      <td>3.4</td>\n",
       "      <td>University of Maryland Medical System\\r\\n3.4</td>\n",
       "      <td>Baltimore, MD</td>\n",
       "      <td>10000+ employees</td>\n",
       "      <td>1984</td>\n",
       "      <td>Other Organization</td>\n",
       "      <td>Health Care Services &amp; Hospitals</td>\n",
       "      <td>Health Care</td>\n",
       "      <td>$2 to $5 billion (USD)</td>\n",
       "      <td>-1</td>\n",
       "      <td>False</td>\n",
       "      <td>87.5</td>\n",
       "      <td>63.0</td>\n",
       "      <td>63.0</td>\n",
       "      <td>Linthicum</td>\n",
       "      <td>MD</td>\n",
       "      <td>3.4</td>\n",
       "      <td>36.0</td>\n",
       "      <td>University of Maryland Medical System</td>\n",
       "      <td>True</td>\n",
       "      <td>False</td>\n",
       "      <td>False</td>\n",
       "      <td>False</td>\n",
       "      <td>False</td>\n",
       "      <td>False</td>\n",
       "      <td>data scientist</td>\n",
       "      <td>NaN</td>\n",
       "      <td>4828</td>\n",
       "      <td>0</td>\n",
       "    </tr>\n",
       "    <tr>\n",
       "      <th>2</th>\n",
       "      <td>Data Scientist</td>\n",
       "      <td>$80K-$90K (Glassdoor est.)</td>\n",
       "      <td>KnowBe4, Inc. is a high growth information sec...</td>\n",
       "      <td>4.8</td>\n",
       "      <td>KnowBe4\\r\\n4.8</td>\n",
       "      <td>Clearwater, FL</td>\n",
       "      <td>501 to 1000 employees</td>\n",
       "      <td>2010</td>\n",
       "      <td>Company - Private</td>\n",
       "      <td>Security Services</td>\n",
       "      <td>Business Services</td>\n",
       "      <td>$100 to $500 million (USD)</td>\n",
       "      <td>-1</td>\n",
       "      <td>False</td>\n",
       "      <td>85.0</td>\n",
       "      <td>80.0</td>\n",
       "      <td>80.0</td>\n",
       "      <td>Clearwater</td>\n",
       "      <td>FL</td>\n",
       "      <td>4, 4.8</td>\n",
       "      <td>10.0</td>\n",
       "      <td>KnowBe4</td>\n",
       "      <td>True</td>\n",
       "      <td>True</td>\n",
       "      <td>True</td>\n",
       "      <td>False</td>\n",
       "      <td>False</td>\n",
       "      <td>True</td>\n",
       "      <td>data scientist</td>\n",
       "      <td>NaN</td>\n",
       "      <td>3495</td>\n",
       "      <td>0</td>\n",
       "    </tr>\n",
       "    <tr>\n",
       "      <th>3</th>\n",
       "      <td>Data Scientist</td>\n",
       "      <td>$56K-$97K (Glassdoor est.)</td>\n",
       "      <td>*Organization and Job ID**\\r\\nJob ID: 310709\\r...</td>\n",
       "      <td>3.8</td>\n",
       "      <td>PNNL\\r\\n3.8</td>\n",
       "      <td>Richland, WA</td>\n",
       "      <td>1001 to 5000 employees</td>\n",
       "      <td>1965</td>\n",
       "      <td>Government</td>\n",
       "      <td>Energy</td>\n",
       "      <td>Oil, Gas, Energy &amp; Utilities</td>\n",
       "      <td>$500 million to $1 billion (USD)</td>\n",
       "      <td>Oak Ridge National Laboratory, National Renewa...</td>\n",
       "      <td>False</td>\n",
       "      <td>76.5</td>\n",
       "      <td>56.0</td>\n",
       "      <td>56.0</td>\n",
       "      <td>Richland</td>\n",
       "      <td>WA</td>\n",
       "      <td>3.8</td>\n",
       "      <td>55.0</td>\n",
       "      <td>PNNL</td>\n",
       "      <td>True</td>\n",
       "      <td>False</td>\n",
       "      <td>False</td>\n",
       "      <td>False</td>\n",
       "      <td>False</td>\n",
       "      <td>False</td>\n",
       "      <td>data scientist</td>\n",
       "      <td>NaN</td>\n",
       "      <td>3926</td>\n",
       "      <td>3</td>\n",
       "    </tr>\n",
       "    <tr>\n",
       "      <th>4</th>\n",
       "      <td>Data Scientist</td>\n",
       "      <td>$86K-$143K (Glassdoor est.)</td>\n",
       "      <td>Data Scientist\\r\\nAffinity Solutions / Marketi...</td>\n",
       "      <td>2.9</td>\n",
       "      <td>Affinity Solutions\\r\\n2.9</td>\n",
       "      <td>New York, NY</td>\n",
       "      <td>51 to 200 employees</td>\n",
       "      <td>1998</td>\n",
       "      <td>Company - Private</td>\n",
       "      <td>Advertising &amp; Marketing</td>\n",
       "      <td>Business Services</td>\n",
       "      <td>Unknown / Non-Applicable</td>\n",
       "      <td>Commerce Signals, Cardlytics, Yodlee</td>\n",
       "      <td>False</td>\n",
       "      <td>114.5</td>\n",
       "      <td>86.0</td>\n",
       "      <td>86.0</td>\n",
       "      <td>New York</td>\n",
       "      <td>NY</td>\n",
       "      <td>2.9</td>\n",
       "      <td>22.0</td>\n",
       "      <td>Affinity Solutions</td>\n",
       "      <td>True</td>\n",
       "      <td>False</td>\n",
       "      <td>False</td>\n",
       "      <td>False</td>\n",
       "      <td>True</td>\n",
       "      <td>True</td>\n",
       "      <td>data scientist</td>\n",
       "      <td>NaN</td>\n",
       "      <td>2748</td>\n",
       "      <td>3</td>\n",
       "    </tr>\n",
       "  </tbody>\n",
       "</table>\n",
       "</div>"
      ],
      "text/plain": [
       "                   job_title              salary_estimate  \\\n",
       "0             Data Scientist   $53K-$91K (Glassdoor est.)   \n",
       "1  Healthcare Data Scientist  $63K-$112K (Glassdoor est.)   \n",
       "2             Data Scientist   $80K-$90K (Glassdoor est.)   \n",
       "3             Data Scientist   $56K-$97K (Glassdoor est.)   \n",
       "4             Data Scientist  $86K-$143K (Glassdoor est.)   \n",
       "\n",
       "                                     job_description  rating  \\\n",
       "0  Data Scientist\\r\\nLocation: Albuquerque, NM\\r\\...     3.8   \n",
       "1  What You Will Do:\\r\\n\\r\\nI. General Summary\\r\\...     3.4   \n",
       "2  KnowBe4, Inc. is a high growth information sec...     4.8   \n",
       "3  *Organization and Job ID**\\r\\nJob ID: 310709\\r...     3.8   \n",
       "4  Data Scientist\\r\\nAffinity Solutions / Marketi...     2.9   \n",
       "\n",
       "                                   company_name    headquarters  \\\n",
       "0                      Tecolote Research\\r\\n3.8      Goleta, CA   \n",
       "1  University of Maryland Medical System\\r\\n3.4   Baltimore, MD   \n",
       "2                                KnowBe4\\r\\n4.8  Clearwater, FL   \n",
       "3                                   PNNL\\r\\n3.8    Richland, WA   \n",
       "4                     Affinity Solutions\\r\\n2.9    New York, NY   \n",
       "\n",
       "                     size  founded   type_of_ownership  \\\n",
       "0   501 to 1000 employees     1973   Company - Private   \n",
       "1        10000+ employees     1984  Other Organization   \n",
       "2   501 to 1000 employees     2010   Company - Private   \n",
       "3  1001 to 5000 employees     1965          Government   \n",
       "4     51 to 200 employees     1998   Company - Private   \n",
       "\n",
       "                           industry                        sector  \\\n",
       "0               Aerospace & Defense           Aerospace & Defense   \n",
       "1  Health Care Services & Hospitals                   Health Care   \n",
       "2                 Security Services             Business Services   \n",
       "3                            Energy  Oil, Gas, Energy & Utilities   \n",
       "4           Advertising & Marketing             Business Services   \n",
       "\n",
       "                            revenue  \\\n",
       "0         $50 to $100 million (USD)   \n",
       "1            $2 to $5 billion (USD)   \n",
       "2        $100 to $500 million (USD)   \n",
       "3  $500 million to $1 billion (USD)   \n",
       "4          Unknown / Non-Applicable   \n",
       "\n",
       "                                         competitors  hourly  salary_average  \\\n",
       "0                                                 -1   False            72.0   \n",
       "1                                                 -1   False            87.5   \n",
       "2                                                 -1   False            85.0   \n",
       "3  Oak Ridge National Laboratory, National Renewa...   False            76.5   \n",
       "4               Commerce Signals, Cardlytics, Yodlee   False           114.5   \n",
       "\n",
       "   salary_min  salary_max         city state parsed_num  years_old  \\\n",
       "0        53.0        53.0  Albuquerque    NM        3.8       47.0   \n",
       "1        63.0        63.0    Linthicum    MD        3.4       36.0   \n",
       "2        80.0        80.0   Clearwater    FL     4, 4.8       10.0   \n",
       "3        56.0        56.0     Richland    WA        3.8       55.0   \n",
       "4        86.0        86.0     New York    NY        2.9       22.0   \n",
       "\n",
       "                             company_txt  python  R_studio  spark    aws  \\\n",
       "0                      Tecolote Research    True     False  False  False   \n",
       "1  University of Maryland Medical System    True     False  False  False   \n",
       "2                                KnowBe4    True      True   True  False   \n",
       "3                                   PNNL    True     False  False  False   \n",
       "4                     Affinity Solutions    True     False  False  False   \n",
       "\n",
       "   excell    SQL  title_category experience_level  description_len  \\\n",
       "0    True  False  data scientist              NaN             2555   \n",
       "1   False  False  data scientist              NaN             4828   \n",
       "2   False   True  data scientist              NaN             3495   \n",
       "3   False  False  data scientist              NaN             3926   \n",
       "4    True   True  data scientist              NaN             2748   \n",
       "\n",
       "   compet_nums  \n",
       "0            0  \n",
       "1            0  \n",
       "2            0  \n",
       "3            3  \n",
       "4            3  "
      ]
     },
     "execution_count": 598,
     "metadata": {},
     "output_type": "execute_result"
    }
   ],
   "source": [
    "df.head()"
   ]
  },
  {
   "cell_type": "code",
   "execution_count": 599,
   "metadata": {},
   "outputs": [],
   "source": [
    "df.to_csv(\"Ken Project Data Cleaned.csv\", index=False)"
   ]
  },
  {
   "cell_type": "code",
   "execution_count": 600,
   "metadata": {},
   "outputs": [],
   "source": [
    "df2 = pd.read_csv(\"Ken Project Data Cleaned.csv\")"
   ]
  },
  {
   "cell_type": "markdown",
   "metadata": {},
   "source": [
    "# 3. EDA (Exploratory Data Analysis)"
   ]
  },
  {
   "cell_type": "code",
   "execution_count": 601,
   "metadata": {},
   "outputs": [
    {
     "data": {
      "text/html": [
       "<div>\n",
       "<style scoped>\n",
       "    .dataframe tbody tr th:only-of-type {\n",
       "        vertical-align: middle;\n",
       "    }\n",
       "\n",
       "    .dataframe tbody tr th {\n",
       "        vertical-align: top;\n",
       "    }\n",
       "\n",
       "    .dataframe thead th {\n",
       "        text-align: right;\n",
       "    }\n",
       "</style>\n",
       "<table border=\"1\" class=\"dataframe\">\n",
       "  <thead>\n",
       "    <tr style=\"text-align: right;\">\n",
       "      <th></th>\n",
       "      <th>job_title</th>\n",
       "      <th>salary_estimate</th>\n",
       "      <th>job_description</th>\n",
       "      <th>rating</th>\n",
       "      <th>company_name</th>\n",
       "      <th>headquarters</th>\n",
       "      <th>size</th>\n",
       "      <th>founded</th>\n",
       "      <th>type_of_ownership</th>\n",
       "      <th>industry</th>\n",
       "      <th>sector</th>\n",
       "      <th>revenue</th>\n",
       "      <th>competitors</th>\n",
       "      <th>hourly</th>\n",
       "      <th>salary_average</th>\n",
       "      <th>salary_min</th>\n",
       "      <th>salary_max</th>\n",
       "      <th>city</th>\n",
       "      <th>state</th>\n",
       "      <th>parsed_num</th>\n",
       "      <th>years_old</th>\n",
       "      <th>company_txt</th>\n",
       "      <th>python</th>\n",
       "      <th>R_studio</th>\n",
       "      <th>spark</th>\n",
       "      <th>aws</th>\n",
       "      <th>excell</th>\n",
       "      <th>SQL</th>\n",
       "      <th>title_category</th>\n",
       "      <th>experience_level</th>\n",
       "      <th>description_len</th>\n",
       "      <th>compet_nums</th>\n",
       "    </tr>\n",
       "  </thead>\n",
       "  <tbody>\n",
       "    <tr>\n",
       "      <th>0</th>\n",
       "      <td>Data Scientist</td>\n",
       "      <td>$53K-$91K (Glassdoor est.)</td>\n",
       "      <td>Data Scientist\\r\\nLocation: Albuquerque, NM\\r\\...</td>\n",
       "      <td>3.8</td>\n",
       "      <td>Tecolote Research\\r\\n3.8</td>\n",
       "      <td>Goleta, CA</td>\n",
       "      <td>501 to 1000 employees</td>\n",
       "      <td>1973</td>\n",
       "      <td>Company - Private</td>\n",
       "      <td>Aerospace &amp; Defense</td>\n",
       "      <td>Aerospace &amp; Defense</td>\n",
       "      <td>$50 to $100 million (USD)</td>\n",
       "      <td>-1</td>\n",
       "      <td>False</td>\n",
       "      <td>72.0</td>\n",
       "      <td>53.0</td>\n",
       "      <td>53.0</td>\n",
       "      <td>Albuquerque</td>\n",
       "      <td>NM</td>\n",
       "      <td>3.8</td>\n",
       "      <td>47.0</td>\n",
       "      <td>Tecolote Research</td>\n",
       "      <td>True</td>\n",
       "      <td>False</td>\n",
       "      <td>False</td>\n",
       "      <td>False</td>\n",
       "      <td>True</td>\n",
       "      <td>False</td>\n",
       "      <td>data scientist</td>\n",
       "      <td>NaN</td>\n",
       "      <td>2555</td>\n",
       "      <td>0</td>\n",
       "    </tr>\n",
       "    <tr>\n",
       "      <th>1</th>\n",
       "      <td>Healthcare Data Scientist</td>\n",
       "      <td>$63K-$112K (Glassdoor est.)</td>\n",
       "      <td>What You Will Do:\\r\\n\\r\\nI. General Summary\\r\\...</td>\n",
       "      <td>3.4</td>\n",
       "      <td>University of Maryland Medical System\\r\\n3.4</td>\n",
       "      <td>Baltimore, MD</td>\n",
       "      <td>10000+ employees</td>\n",
       "      <td>1984</td>\n",
       "      <td>Other Organization</td>\n",
       "      <td>Health Care Services &amp; Hospitals</td>\n",
       "      <td>Health Care</td>\n",
       "      <td>$2 to $5 billion (USD)</td>\n",
       "      <td>-1</td>\n",
       "      <td>False</td>\n",
       "      <td>87.5</td>\n",
       "      <td>63.0</td>\n",
       "      <td>63.0</td>\n",
       "      <td>Linthicum</td>\n",
       "      <td>MD</td>\n",
       "      <td>3.4</td>\n",
       "      <td>36.0</td>\n",
       "      <td>University of Maryland Medical System</td>\n",
       "      <td>True</td>\n",
       "      <td>False</td>\n",
       "      <td>False</td>\n",
       "      <td>False</td>\n",
       "      <td>False</td>\n",
       "      <td>False</td>\n",
       "      <td>data scientist</td>\n",
       "      <td>NaN</td>\n",
       "      <td>4828</td>\n",
       "      <td>0</td>\n",
       "    </tr>\n",
       "    <tr>\n",
       "      <th>2</th>\n",
       "      <td>Data Scientist</td>\n",
       "      <td>$80K-$90K (Glassdoor est.)</td>\n",
       "      <td>KnowBe4, Inc. is a high growth information sec...</td>\n",
       "      <td>4.8</td>\n",
       "      <td>KnowBe4\\r\\n4.8</td>\n",
       "      <td>Clearwater, FL</td>\n",
       "      <td>501 to 1000 employees</td>\n",
       "      <td>2010</td>\n",
       "      <td>Company - Private</td>\n",
       "      <td>Security Services</td>\n",
       "      <td>Business Services</td>\n",
       "      <td>$100 to $500 million (USD)</td>\n",
       "      <td>-1</td>\n",
       "      <td>False</td>\n",
       "      <td>85.0</td>\n",
       "      <td>80.0</td>\n",
       "      <td>80.0</td>\n",
       "      <td>Clearwater</td>\n",
       "      <td>FL</td>\n",
       "      <td>4, 4.8</td>\n",
       "      <td>10.0</td>\n",
       "      <td>KnowBe4</td>\n",
       "      <td>True</td>\n",
       "      <td>True</td>\n",
       "      <td>True</td>\n",
       "      <td>False</td>\n",
       "      <td>False</td>\n",
       "      <td>True</td>\n",
       "      <td>data scientist</td>\n",
       "      <td>NaN</td>\n",
       "      <td>3495</td>\n",
       "      <td>0</td>\n",
       "    </tr>\n",
       "    <tr>\n",
       "      <th>3</th>\n",
       "      <td>Data Scientist</td>\n",
       "      <td>$56K-$97K (Glassdoor est.)</td>\n",
       "      <td>*Organization and Job ID**\\r\\nJob ID: 310709\\r...</td>\n",
       "      <td>3.8</td>\n",
       "      <td>PNNL\\r\\n3.8</td>\n",
       "      <td>Richland, WA</td>\n",
       "      <td>1001 to 5000 employees</td>\n",
       "      <td>1965</td>\n",
       "      <td>Government</td>\n",
       "      <td>Energy</td>\n",
       "      <td>Oil, Gas, Energy &amp; Utilities</td>\n",
       "      <td>$500 million to $1 billion (USD)</td>\n",
       "      <td>Oak Ridge National Laboratory, National Renewa...</td>\n",
       "      <td>False</td>\n",
       "      <td>76.5</td>\n",
       "      <td>56.0</td>\n",
       "      <td>56.0</td>\n",
       "      <td>Richland</td>\n",
       "      <td>WA</td>\n",
       "      <td>3.8</td>\n",
       "      <td>55.0</td>\n",
       "      <td>PNNL</td>\n",
       "      <td>True</td>\n",
       "      <td>False</td>\n",
       "      <td>False</td>\n",
       "      <td>False</td>\n",
       "      <td>False</td>\n",
       "      <td>False</td>\n",
       "      <td>data scientist</td>\n",
       "      <td>NaN</td>\n",
       "      <td>3926</td>\n",
       "      <td>3</td>\n",
       "    </tr>\n",
       "    <tr>\n",
       "      <th>4</th>\n",
       "      <td>Data Scientist</td>\n",
       "      <td>$86K-$143K (Glassdoor est.)</td>\n",
       "      <td>Data Scientist\\r\\nAffinity Solutions / Marketi...</td>\n",
       "      <td>2.9</td>\n",
       "      <td>Affinity Solutions\\r\\n2.9</td>\n",
       "      <td>New York, NY</td>\n",
       "      <td>51 to 200 employees</td>\n",
       "      <td>1998</td>\n",
       "      <td>Company - Private</td>\n",
       "      <td>Advertising &amp; Marketing</td>\n",
       "      <td>Business Services</td>\n",
       "      <td>Unknown / Non-Applicable</td>\n",
       "      <td>Commerce Signals, Cardlytics, Yodlee</td>\n",
       "      <td>False</td>\n",
       "      <td>114.5</td>\n",
       "      <td>86.0</td>\n",
       "      <td>86.0</td>\n",
       "      <td>New York</td>\n",
       "      <td>NY</td>\n",
       "      <td>2.9</td>\n",
       "      <td>22.0</td>\n",
       "      <td>Affinity Solutions</td>\n",
       "      <td>True</td>\n",
       "      <td>False</td>\n",
       "      <td>False</td>\n",
       "      <td>False</td>\n",
       "      <td>True</td>\n",
       "      <td>True</td>\n",
       "      <td>data scientist</td>\n",
       "      <td>NaN</td>\n",
       "      <td>2748</td>\n",
       "      <td>3</td>\n",
       "    </tr>\n",
       "  </tbody>\n",
       "</table>\n",
       "</div>"
      ],
      "text/plain": [
       "                   job_title              salary_estimate  \\\n",
       "0             Data Scientist   $53K-$91K (Glassdoor est.)   \n",
       "1  Healthcare Data Scientist  $63K-$112K (Glassdoor est.)   \n",
       "2             Data Scientist   $80K-$90K (Glassdoor est.)   \n",
       "3             Data Scientist   $56K-$97K (Glassdoor est.)   \n",
       "4             Data Scientist  $86K-$143K (Glassdoor est.)   \n",
       "\n",
       "                                     job_description  rating  \\\n",
       "0  Data Scientist\\r\\nLocation: Albuquerque, NM\\r\\...     3.8   \n",
       "1  What You Will Do:\\r\\n\\r\\nI. General Summary\\r\\...     3.4   \n",
       "2  KnowBe4, Inc. is a high growth information sec...     4.8   \n",
       "3  *Organization and Job ID**\\r\\nJob ID: 310709\\r...     3.8   \n",
       "4  Data Scientist\\r\\nAffinity Solutions / Marketi...     2.9   \n",
       "\n",
       "                                   company_name    headquarters  \\\n",
       "0                      Tecolote Research\\r\\n3.8      Goleta, CA   \n",
       "1  University of Maryland Medical System\\r\\n3.4   Baltimore, MD   \n",
       "2                                KnowBe4\\r\\n4.8  Clearwater, FL   \n",
       "3                                   PNNL\\r\\n3.8    Richland, WA   \n",
       "4                     Affinity Solutions\\r\\n2.9    New York, NY   \n",
       "\n",
       "                     size  founded   type_of_ownership  \\\n",
       "0   501 to 1000 employees     1973   Company - Private   \n",
       "1        10000+ employees     1984  Other Organization   \n",
       "2   501 to 1000 employees     2010   Company - Private   \n",
       "3  1001 to 5000 employees     1965          Government   \n",
       "4     51 to 200 employees     1998   Company - Private   \n",
       "\n",
       "                           industry                        sector  \\\n",
       "0               Aerospace & Defense           Aerospace & Defense   \n",
       "1  Health Care Services & Hospitals                   Health Care   \n",
       "2                 Security Services             Business Services   \n",
       "3                            Energy  Oil, Gas, Energy & Utilities   \n",
       "4           Advertising & Marketing             Business Services   \n",
       "\n",
       "                            revenue  \\\n",
       "0         $50 to $100 million (USD)   \n",
       "1            $2 to $5 billion (USD)   \n",
       "2        $100 to $500 million (USD)   \n",
       "3  $500 million to $1 billion (USD)   \n",
       "4          Unknown / Non-Applicable   \n",
       "\n",
       "                                         competitors  hourly  salary_average  \\\n",
       "0                                                 -1   False            72.0   \n",
       "1                                                 -1   False            87.5   \n",
       "2                                                 -1   False            85.0   \n",
       "3  Oak Ridge National Laboratory, National Renewa...   False            76.5   \n",
       "4               Commerce Signals, Cardlytics, Yodlee   False           114.5   \n",
       "\n",
       "   salary_min  salary_max         city state parsed_num  years_old  \\\n",
       "0        53.0        53.0  Albuquerque    NM        3.8       47.0   \n",
       "1        63.0        63.0    Linthicum    MD        3.4       36.0   \n",
       "2        80.0        80.0   Clearwater    FL     4, 4.8       10.0   \n",
       "3        56.0        56.0     Richland    WA        3.8       55.0   \n",
       "4        86.0        86.0     New York    NY        2.9       22.0   \n",
       "\n",
       "                             company_txt  python  R_studio  spark    aws  \\\n",
       "0                      Tecolote Research    True     False  False  False   \n",
       "1  University of Maryland Medical System    True     False  False  False   \n",
       "2                                KnowBe4    True      True   True  False   \n",
       "3                                   PNNL    True     False  False  False   \n",
       "4                     Affinity Solutions    True     False  False  False   \n",
       "\n",
       "   excell    SQL  title_category experience_level  description_len  \\\n",
       "0    True  False  data scientist              NaN             2555   \n",
       "1   False  False  data scientist              NaN             4828   \n",
       "2   False   True  data scientist              NaN             3495   \n",
       "3   False  False  data scientist              NaN             3926   \n",
       "4    True   True  data scientist              NaN             2748   \n",
       "\n",
       "   compet_nums  \n",
       "0            0  \n",
       "1            0  \n",
       "2            0  \n",
       "3            3  \n",
       "4            3  "
      ]
     },
     "execution_count": 601,
     "metadata": {},
     "output_type": "execute_result"
    }
   ],
   "source": [
    "df2.head()"
   ]
  },
  {
   "cell_type": "code",
   "execution_count": 602,
   "metadata": {},
   "outputs": [
    {
     "data": {
      "text/html": [
       "<div>\n",
       "<style scoped>\n",
       "    .dataframe tbody tr th:only-of-type {\n",
       "        vertical-align: middle;\n",
       "    }\n",
       "\n",
       "    .dataframe tbody tr th {\n",
       "        vertical-align: top;\n",
       "    }\n",
       "\n",
       "    .dataframe thead th {\n",
       "        text-align: right;\n",
       "    }\n",
       "</style>\n",
       "<table border=\"1\" class=\"dataframe\">\n",
       "  <thead>\n",
       "    <tr style=\"text-align: right;\">\n",
       "      <th></th>\n",
       "      <th>rating</th>\n",
       "      <th>founded</th>\n",
       "      <th>salary_average</th>\n",
       "      <th>salary_min</th>\n",
       "      <th>salary_max</th>\n",
       "      <th>years_old</th>\n",
       "      <th>description_len</th>\n",
       "      <th>compet_nums</th>\n",
       "    </tr>\n",
       "  </thead>\n",
       "  <tbody>\n",
       "    <tr>\n",
       "      <th>count</th>\n",
       "      <td>751.000000</td>\n",
       "      <td>751.000000</td>\n",
       "      <td>591.000000</td>\n",
       "      <td>591.000000</td>\n",
       "      <td>591.000000</td>\n",
       "      <td>681.000000</td>\n",
       "      <td>751.000000</td>\n",
       "      <td>751.000000</td>\n",
       "    </tr>\n",
       "    <tr>\n",
       "      <th>mean</th>\n",
       "      <td>3.642344</td>\n",
       "      <td>1790.671105</td>\n",
       "      <td>101.276650</td>\n",
       "      <td>75.301184</td>\n",
       "      <td>75.301184</td>\n",
       "      <td>45.245228</td>\n",
       "      <td>3801.675100</td>\n",
       "      <td>0.892144</td>\n",
       "    </tr>\n",
       "    <tr>\n",
       "      <th>std</th>\n",
       "      <td>1.033256</td>\n",
       "      <td>576.984838</td>\n",
       "      <td>38.857585</td>\n",
       "      <td>31.335916</td>\n",
       "      <td>31.335916</td>\n",
       "      <td>52.802546</td>\n",
       "      <td>1562.245456</td>\n",
       "      <td>1.327787</td>\n",
       "    </tr>\n",
       "    <tr>\n",
       "      <th>min</th>\n",
       "      <td>-1.000000</td>\n",
       "      <td>-1.000000</td>\n",
       "      <td>13.500000</td>\n",
       "      <td>15.000000</td>\n",
       "      <td>15.000000</td>\n",
       "      <td>1.000000</td>\n",
       "      <td>695.000000</td>\n",
       "      <td>0.000000</td>\n",
       "    </tr>\n",
       "    <tr>\n",
       "      <th>25%</th>\n",
       "      <td>3.400000</td>\n",
       "      <td>1939.000000</td>\n",
       "      <td>73.500000</td>\n",
       "      <td>52.000000</td>\n",
       "      <td>52.000000</td>\n",
       "      <td>11.000000</td>\n",
       "      <td>2751.000000</td>\n",
       "      <td>0.000000</td>\n",
       "    </tr>\n",
       "    <tr>\n",
       "      <th>50%</th>\n",
       "      <td>3.800000</td>\n",
       "      <td>1993.000000</td>\n",
       "      <td>98.000000</td>\n",
       "      <td>71.000000</td>\n",
       "      <td>71.000000</td>\n",
       "      <td>24.000000</td>\n",
       "      <td>3604.000000</td>\n",
       "      <td>0.000000</td>\n",
       "    </tr>\n",
       "    <tr>\n",
       "      <th>75%</th>\n",
       "      <td>4.200000</td>\n",
       "      <td>2008.000000</td>\n",
       "      <td>124.000000</td>\n",
       "      <td>92.500000</td>\n",
       "      <td>92.500000</td>\n",
       "      <td>55.000000</td>\n",
       "      <td>4671.000000</td>\n",
       "      <td>3.000000</td>\n",
       "    </tr>\n",
       "    <tr>\n",
       "      <th>max</th>\n",
       "      <td>5.000000</td>\n",
       "      <td>2019.000000</td>\n",
       "      <td>254.000000</td>\n",
       "      <td>202.000000</td>\n",
       "      <td>202.000000</td>\n",
       "      <td>277.000000</td>\n",
       "      <td>10146.000000</td>\n",
       "      <td>4.000000</td>\n",
       "    </tr>\n",
       "  </tbody>\n",
       "</table>\n",
       "</div>"
      ],
      "text/plain": [
       "           rating      founded  salary_average  salary_min  salary_max  \\\n",
       "count  751.000000   751.000000      591.000000  591.000000  591.000000   \n",
       "mean     3.642344  1790.671105      101.276650   75.301184   75.301184   \n",
       "std      1.033256   576.984838       38.857585   31.335916   31.335916   \n",
       "min     -1.000000    -1.000000       13.500000   15.000000   15.000000   \n",
       "25%      3.400000  1939.000000       73.500000   52.000000   52.000000   \n",
       "50%      3.800000  1993.000000       98.000000   71.000000   71.000000   \n",
       "75%      4.200000  2008.000000      124.000000   92.500000   92.500000   \n",
       "max      5.000000  2019.000000      254.000000  202.000000  202.000000   \n",
       "\n",
       "        years_old  description_len  compet_nums  \n",
       "count  681.000000       751.000000   751.000000  \n",
       "mean    45.245228      3801.675100     0.892144  \n",
       "std     52.802546      1562.245456     1.327787  \n",
       "min      1.000000       695.000000     0.000000  \n",
       "25%     11.000000      2751.000000     0.000000  \n",
       "50%     24.000000      3604.000000     0.000000  \n",
       "75%     55.000000      4671.000000     3.000000  \n",
       "max    277.000000     10146.000000     4.000000  "
      ]
     },
     "execution_count": 602,
     "metadata": {},
     "output_type": "execute_result"
    }
   ],
   "source": [
    "df2.describe()"
   ]
  },
  {
   "cell_type": "code",
   "execution_count": 603,
   "metadata": {},
   "outputs": [
    {
     "name": "stdout",
     "output_type": "stream",
     "text": [
      "['bmh', 'classic', 'dark_background', 'fast', 'fivethirtyeight', 'ggplot', 'grayscale', 'seaborn-bright', 'seaborn-colorblind', 'seaborn-dark-palette', 'seaborn-dark', 'seaborn-darkgrid', 'seaborn-deep', 'seaborn-muted', 'seaborn-notebook', 'seaborn-paper', 'seaborn-pastel', 'seaborn-poster', 'seaborn-talk', 'seaborn-ticks', 'seaborn-white', 'seaborn-whitegrid', 'seaborn', 'Solarize_Light2', 'tableau-colorblind10', '_classic_test']\n"
     ]
    }
   ],
   "source": [
    "print(plt.style.available)"
   ]
  },
  {
   "cell_type": "raw",
   "metadata": {},
   "source": [
    "# Lets generate few plots to get a sense of the data. Histograms, boxplots and scatter plots are particularly usefull to get an idea about the stats"
   ]
  },
  {
   "cell_type": "code",
   "execution_count": 604,
   "metadata": {},
   "outputs": [
    {
     "data": {
      "image/png": "[encoded data removed]",
      "text/plain": [
       "<Figure size 160x160 with 1 Axes>"
      ]
     },
     "metadata": {},
     "output_type": "display_data"
    }
   ],
   "source": [
    "\n",
    "fig, ax = plt.subplots(1, figsize=(2, 2))\n",
    "plt.style.use(\"seaborn-notebook\")\n",
    "plt.hist(df2[\"rating\"], color=\"k\")\n",
    "plt.show()"
   ]
  },
  {
   "cell_type": "code",
   "execution_count": 605,
   "metadata": {},
   "outputs": [
    {
     "data": {
      "image/png": "[encoded data removed]",
      "text/plain": [
       "<Figure size 480x240 with 2 Axes>"
      ]
     },
     "metadata": {},
     "output_type": "display_data"
    }
   ],
   "source": [
    "g = sns.FacetGrid(df2, col=\"python\", hue=\"hourly\")\n",
    "g = g.map(plt.hist, \"salary_min\",bins=15, color=\"b\")"
   ]
  },
  {
   "cell_type": "code",
   "execution_count": 606,
   "metadata": {},
   "outputs": [],
   "source": [
    "numerics = ['int16', 'int32', 'int64', 'float16', 'float32', 'float64']\n",
    "boolean = ['bool']\n",
    "categorical = ['object']\n",
    "numeric_df = df2.select_dtypes(include=numerics)\n",
    "boolean_df = df2.select_dtypes(include=boolean)\n",
    "categorical_df = df2.select_dtypes(include=categorical)"
   ]
  },
  {
   "cell_type": "code",
   "execution_count": 607,
   "metadata": {},
   "outputs": [
    {
     "data": {
      "image/png": "[encoded data removed]",
      "text/plain": [
       "<Figure size 640x440 with 9 Axes>"
      ]
     },
     "metadata": {},
     "output_type": "display_data"
    }
   ],
   "source": [
    "numeric_df.hist(color=\"b\")\n",
    "plt.tight_layout()\n",
    "plt.show()"
   ]
  },
  {
   "cell_type": "raw",
   "metadata": {},
   "source": [
    "# We can see that age is not normally distributed. So we will need to normalize it. In special before performing a regression"
   ]
  },
  {
   "cell_type": "code",
   "execution_count": 608,
   "metadata": {},
   "outputs": [
    {
     "data": {
      "image/png": "[encoded data removed]",
      "text/plain": [
       "<Figure size 400x320 with 1 Axes>"
      ]
     },
     "metadata": {},
     "output_type": "display_data"
    }
   ],
   "source": [
    "fig, ax = plt.subplots(1, figsize=(5, 4))\n",
    "numeric_df[[\"years_old\", \"salary_average\", \"rating\"]].boxplot(color=\"b\")\n",
    "plt.tight_layout()\n",
    "plt.show()"
   ]
  },
  {
   "cell_type": "raw",
   "metadata": {},
   "source": [
    "# Here we can stop some outlyers"
   ]
  },
  {
   "cell_type": "code",
   "execution_count": 609,
   "metadata": {},
   "outputs": [
    {
     "data": {
      "text/html": [
       "<div>\n",
       "<style scoped>\n",
       "    .dataframe tbody tr th:only-of-type {\n",
       "        vertical-align: middle;\n",
       "    }\n",
       "\n",
       "    .dataframe tbody tr th {\n",
       "        vertical-align: top;\n",
       "    }\n",
       "\n",
       "    .dataframe thead th {\n",
       "        text-align: right;\n",
       "    }\n",
       "</style>\n",
       "<table border=\"1\" class=\"dataframe\">\n",
       "  <thead>\n",
       "    <tr style=\"text-align: right;\">\n",
       "      <th></th>\n",
       "      <th>rating</th>\n",
       "      <th>founded</th>\n",
       "      <th>salary_average</th>\n",
       "      <th>salary_min</th>\n",
       "      <th>salary_max</th>\n",
       "      <th>years_old</th>\n",
       "      <th>description_len</th>\n",
       "      <th>compet_nums</th>\n",
       "    </tr>\n",
       "  </thead>\n",
       "  <tbody>\n",
       "    <tr>\n",
       "      <th>rating</th>\n",
       "      <td>1.000000</td>\n",
       "      <td>0.467494</td>\n",
       "      <td>0.003109</td>\n",
       "      <td>-0.015034</td>\n",
       "      <td>-0.015034</td>\n",
       "      <td>-0.164578</td>\n",
       "      <td>-0.016731</td>\n",
       "      <td>0.010233</td>\n",
       "    </tr>\n",
       "    <tr>\n",
       "      <th>founded</th>\n",
       "      <td>0.467494</td>\n",
       "      <td>1.000000</td>\n",
       "      <td>-0.005909</td>\n",
       "      <td>-0.021799</td>\n",
       "      <td>-0.021799</td>\n",
       "      <td>-0.999995</td>\n",
       "      <td>0.105303</td>\n",
       "      <td>0.194682</td>\n",
       "    </tr>\n",
       "    <tr>\n",
       "      <th>salary_average</th>\n",
       "      <td>0.003109</td>\n",
       "      <td>-0.005909</td>\n",
       "      <td>1.000000</td>\n",
       "      <td>0.968731</td>\n",
       "      <td>0.968731</td>\n",
       "      <td>0.017793</td>\n",
       "      <td>0.054220</td>\n",
       "      <td>0.097298</td>\n",
       "    </tr>\n",
       "    <tr>\n",
       "      <th>salary_min</th>\n",
       "      <td>-0.015034</td>\n",
       "      <td>-0.021799</td>\n",
       "      <td>0.968731</td>\n",
       "      <td>1.000000</td>\n",
       "      <td>1.000000</td>\n",
       "      <td>0.005248</td>\n",
       "      <td>0.042275</td>\n",
       "      <td>0.082589</td>\n",
       "    </tr>\n",
       "    <tr>\n",
       "      <th>salary_max</th>\n",
       "      <td>-0.015034</td>\n",
       "      <td>-0.021799</td>\n",
       "      <td>0.968731</td>\n",
       "      <td>1.000000</td>\n",
       "      <td>1.000000</td>\n",
       "      <td>0.005248</td>\n",
       "      <td>0.042275</td>\n",
       "      <td>0.082589</td>\n",
       "    </tr>\n",
       "    <tr>\n",
       "      <th>years_old</th>\n",
       "      <td>-0.164578</td>\n",
       "      <td>-0.999995</td>\n",
       "      <td>0.017793</td>\n",
       "      <td>0.005248</td>\n",
       "      <td>0.005248</td>\n",
       "      <td>1.000000</td>\n",
       "      <td>0.143489</td>\n",
       "      <td>0.114711</td>\n",
       "    </tr>\n",
       "    <tr>\n",
       "      <th>description_len</th>\n",
       "      <td>-0.016731</td>\n",
       "      <td>0.105303</td>\n",
       "      <td>0.054220</td>\n",
       "      <td>0.042275</td>\n",
       "      <td>0.042275</td>\n",
       "      <td>0.143489</td>\n",
       "      <td>1.000000</td>\n",
       "      <td>0.163917</td>\n",
       "    </tr>\n",
       "    <tr>\n",
       "      <th>compet_nums</th>\n",
       "      <td>0.010233</td>\n",
       "      <td>0.194682</td>\n",
       "      <td>0.097298</td>\n",
       "      <td>0.082589</td>\n",
       "      <td>0.082589</td>\n",
       "      <td>0.114711</td>\n",
       "      <td>0.163917</td>\n",
       "      <td>1.000000</td>\n",
       "    </tr>\n",
       "  </tbody>\n",
       "</table>\n",
       "</div>"
      ],
      "text/plain": [
       "                   rating   founded  salary_average  salary_min  salary_max  \\\n",
       "rating           1.000000  0.467494        0.003109   -0.015034   -0.015034   \n",
       "founded          0.467494  1.000000       -0.005909   -0.021799   -0.021799   \n",
       "salary_average   0.003109 -0.005909        1.000000    0.968731    0.968731   \n",
       "salary_min      -0.015034 -0.021799        0.968731    1.000000    1.000000   \n",
       "salary_max      -0.015034 -0.021799        0.968731    1.000000    1.000000   \n",
       "years_old       -0.164578 -0.999995        0.017793    0.005248    0.005248   \n",
       "description_len -0.016731  0.105303        0.054220    0.042275    0.042275   \n",
       "compet_nums      0.010233  0.194682        0.097298    0.082589    0.082589   \n",
       "\n",
       "                 years_old  description_len  compet_nums  \n",
       "rating           -0.164578        -0.016731     0.010233  \n",
       "founded          -0.999995         0.105303     0.194682  \n",
       "salary_average    0.017793         0.054220     0.097298  \n",
       "salary_min        0.005248         0.042275     0.082589  \n",
       "salary_max        0.005248         0.042275     0.082589  \n",
       "years_old         1.000000         0.143489     0.114711  \n",
       "description_len   0.143489         1.000000     0.163917  \n",
       "compet_nums       0.114711         0.163917     1.000000  "
      ]
     },
     "execution_count": 609,
     "metadata": {},
     "output_type": "execute_result"
    }
   ],
   "source": [
    "numeric_df.corr()"
   ]
  },
  {
   "cell_type": "code",
   "execution_count": 610,
   "metadata": {},
   "outputs": [
    {
     "data": {
      "image/png": "[encoded data removed]",
      "text/plain": [
       "<Figure size 640x440 with 2 Axes>"
      ]
     },
     "metadata": {},
     "output_type": "display_data"
    }
   ],
   "source": [
    "ax = sns.heatmap(numeric_df.corr(), cmap=\"YlGnBu\",linewidths=.5, vmin=0, vmax=1)\n",
    "plt.savefig(\"corr_plot.png\", dpi=400)"
   ]
  },
  {
   "cell_type": "raw",
   "metadata": {},
   "source": [
    "# Lets look at categorical data now. For this we can start with bar charts"
   ]
  },
  {
   "cell_type": "code",
   "execution_count": 611,
   "metadata": {},
   "outputs": [
    {
     "data": {
      "text/html": [
       "<div>\n",
       "<style scoped>\n",
       "    .dataframe tbody tr th:only-of-type {\n",
       "        vertical-align: middle;\n",
       "    }\n",
       "\n",
       "    .dataframe tbody tr th {\n",
       "        vertical-align: top;\n",
       "    }\n",
       "\n",
       "    .dataframe thead th {\n",
       "        text-align: right;\n",
       "    }\n",
       "</style>\n",
       "<table border=\"1\" class=\"dataframe\">\n",
       "  <thead>\n",
       "    <tr style=\"text-align: right;\">\n",
       "      <th></th>\n",
       "      <th>job_title</th>\n",
       "      <th>salary_estimate</th>\n",
       "      <th>job_description</th>\n",
       "      <th>company_name</th>\n",
       "      <th>headquarters</th>\n",
       "      <th>size</th>\n",
       "      <th>type_of_ownership</th>\n",
       "      <th>industry</th>\n",
       "      <th>sector</th>\n",
       "      <th>revenue</th>\n",
       "      <th>competitors</th>\n",
       "      <th>city</th>\n",
       "      <th>state</th>\n",
       "      <th>parsed_num</th>\n",
       "      <th>company_txt</th>\n",
       "      <th>title_category</th>\n",
       "      <th>experience_level</th>\n",
       "    </tr>\n",
       "  </thead>\n",
       "  <tbody>\n",
       "    <tr>\n",
       "      <th>0</th>\n",
       "      <td>Data Scientist</td>\n",
       "      <td>$53K-$91K (Glassdoor est.)</td>\n",
       "      <td>Data Scientist\\r\\nLocation: Albuquerque, NM\\r\\...</td>\n",
       "      <td>Tecolote Research\\r\\n3.8</td>\n",
       "      <td>Goleta, CA</td>\n",
       "      <td>501 to 1000 employees</td>\n",
       "      <td>Company - Private</td>\n",
       "      <td>Aerospace &amp; Defense</td>\n",
       "      <td>Aerospace &amp; Defense</td>\n",
       "      <td>$50 to $100 million (USD)</td>\n",
       "      <td>-1</td>\n",
       "      <td>Albuquerque</td>\n",
       "      <td>NM</td>\n",
       "      <td>3.8</td>\n",
       "      <td>Tecolote Research</td>\n",
       "      <td>data scientist</td>\n",
       "      <td>NaN</td>\n",
       "    </tr>\n",
       "    <tr>\n",
       "      <th>1</th>\n",
       "      <td>Healthcare Data Scientist</td>\n",
       "      <td>$63K-$112K (Glassdoor est.)</td>\n",
       "      <td>What You Will Do:\\r\\n\\r\\nI. General Summary\\r\\...</td>\n",
       "      <td>University of Maryland Medical System\\r\\n3.4</td>\n",
       "      <td>Baltimore, MD</td>\n",
       "      <td>10000+ employees</td>\n",
       "      <td>Other Organization</td>\n",
       "      <td>Health Care Services &amp; Hospitals</td>\n",
       "      <td>Health Care</td>\n",
       "      <td>$2 to $5 billion (USD)</td>\n",
       "      <td>-1</td>\n",
       "      <td>Linthicum</td>\n",
       "      <td>MD</td>\n",
       "      <td>3.4</td>\n",
       "      <td>University of Maryland Medical System</td>\n",
       "      <td>data scientist</td>\n",
       "      <td>NaN</td>\n",
       "    </tr>\n",
       "    <tr>\n",
       "      <th>2</th>\n",
       "      <td>Data Scientist</td>\n",
       "      <td>$80K-$90K (Glassdoor est.)</td>\n",
       "      <td>KnowBe4, Inc. is a high growth information sec...</td>\n",
       "      <td>KnowBe4\\r\\n4.8</td>\n",
       "      <td>Clearwater, FL</td>\n",
       "      <td>501 to 1000 employees</td>\n",
       "      <td>Company - Private</td>\n",
       "      <td>Security Services</td>\n",
       "      <td>Business Services</td>\n",
       "      <td>$100 to $500 million (USD)</td>\n",
       "      <td>-1</td>\n",
       "      <td>Clearwater</td>\n",
       "      <td>FL</td>\n",
       "      <td>4, 4.8</td>\n",
       "      <td>KnowBe4</td>\n",
       "      <td>data scientist</td>\n",
       "      <td>NaN</td>\n",
       "    </tr>\n",
       "    <tr>\n",
       "      <th>3</th>\n",
       "      <td>Data Scientist</td>\n",
       "      <td>$56K-$97K (Glassdoor est.)</td>\n",
       "      <td>*Organization and Job ID**\\r\\nJob ID: 310709\\r...</td>\n",
       "      <td>PNNL\\r\\n3.8</td>\n",
       "      <td>Richland, WA</td>\n",
       "      <td>1001 to 5000 employees</td>\n",
       "      <td>Government</td>\n",
       "      <td>Energy</td>\n",
       "      <td>Oil, Gas, Energy &amp; Utilities</td>\n",
       "      <td>$500 million to $1 billion (USD)</td>\n",
       "      <td>Oak Ridge National Laboratory, National Renewa...</td>\n",
       "      <td>Richland</td>\n",
       "      <td>WA</td>\n",
       "      <td>3.8</td>\n",
       "      <td>PNNL</td>\n",
       "      <td>data scientist</td>\n",
       "      <td>NaN</td>\n",
       "    </tr>\n",
       "    <tr>\n",
       "      <th>4</th>\n",
       "      <td>Data Scientist</td>\n",
       "      <td>$86K-$143K (Glassdoor est.)</td>\n",
       "      <td>Data Scientist\\r\\nAffinity Solutions / Marketi...</td>\n",
       "      <td>Affinity Solutions\\r\\n2.9</td>\n",
       "      <td>New York, NY</td>\n",
       "      <td>51 to 200 employees</td>\n",
       "      <td>Company - Private</td>\n",
       "      <td>Advertising &amp; Marketing</td>\n",
       "      <td>Business Services</td>\n",
       "      <td>Unknown / Non-Applicable</td>\n",
       "      <td>Commerce Signals, Cardlytics, Yodlee</td>\n",
       "      <td>New York</td>\n",
       "      <td>NY</td>\n",
       "      <td>2.9</td>\n",
       "      <td>Affinity Solutions</td>\n",
       "      <td>data scientist</td>\n",
       "      <td>NaN</td>\n",
       "    </tr>\n",
       "  </tbody>\n",
       "</table>\n",
       "</div>"
      ],
      "text/plain": [
       "                   job_title              salary_estimate  \\\n",
       "0             Data Scientist   $53K-$91K (Glassdoor est.)   \n",
       "1  Healthcare Data Scientist  $63K-$112K (Glassdoor est.)   \n",
       "2             Data Scientist   $80K-$90K (Glassdoor est.)   \n",
       "3             Data Scientist   $56K-$97K (Glassdoor est.)   \n",
       "4             Data Scientist  $86K-$143K (Glassdoor est.)   \n",
       "\n",
       "                                     job_description  \\\n",
       "0  Data Scientist\\r\\nLocation: Albuquerque, NM\\r\\...   \n",
       "1  What You Will Do:\\r\\n\\r\\nI. General Summary\\r\\...   \n",
       "2  KnowBe4, Inc. is a high growth information sec...   \n",
       "3  *Organization and Job ID**\\r\\nJob ID: 310709\\r...   \n",
       "4  Data Scientist\\r\\nAffinity Solutions / Marketi...   \n",
       "\n",
       "                                   company_name    headquarters  \\\n",
       "0                      Tecolote Research\\r\\n3.8      Goleta, CA   \n",
       "1  University of Maryland Medical System\\r\\n3.4   Baltimore, MD   \n",
       "2                                KnowBe4\\r\\n4.8  Clearwater, FL   \n",
       "3                                   PNNL\\r\\n3.8    Richland, WA   \n",
       "4                     Affinity Solutions\\r\\n2.9    New York, NY   \n",
       "\n",
       "                     size   type_of_ownership  \\\n",
       "0   501 to 1000 employees   Company - Private   \n",
       "1        10000+ employees  Other Organization   \n",
       "2   501 to 1000 employees   Company - Private   \n",
       "3  1001 to 5000 employees          Government   \n",
       "4     51 to 200 employees   Company - Private   \n",
       "\n",
       "                           industry                        sector  \\\n",
       "0               Aerospace & Defense           Aerospace & Defense   \n",
       "1  Health Care Services & Hospitals                   Health Care   \n",
       "2                 Security Services             Business Services   \n",
       "3                            Energy  Oil, Gas, Energy & Utilities   \n",
       "4           Advertising & Marketing             Business Services   \n",
       "\n",
       "                            revenue  \\\n",
       "0         $50 to $100 million (USD)   \n",
       "1            $2 to $5 billion (USD)   \n",
       "2        $100 to $500 million (USD)   \n",
       "3  $500 million to $1 billion (USD)   \n",
       "4          Unknown / Non-Applicable   \n",
       "\n",
       "                                         competitors         city state  \\\n",
       "0                                                 -1  Albuquerque    NM   \n",
       "1                                                 -1    Linthicum    MD   \n",
       "2                                                 -1   Clearwater    FL   \n",
       "3  Oak Ridge National Laboratory, National Renewa...     Richland    WA   \n",
       "4               Commerce Signals, Cardlytics, Yodlee     New York    NY   \n",
       "\n",
       "  parsed_num                            company_txt  title_category  \\\n",
       "0        3.8                      Tecolote Research  data scientist   \n",
       "1        3.4  University of Maryland Medical System  data scientist   \n",
       "2     4, 4.8                                KnowBe4  data scientist   \n",
       "3        3.8                                   PNNL  data scientist   \n",
       "4        2.9                     Affinity Solutions  data scientist   \n",
       "\n",
       "  experience_level  \n",
       "0              NaN  \n",
       "1              NaN  \n",
       "2              NaN  \n",
       "3              NaN  \n",
       "4              NaN  "
      ]
     },
     "execution_count": 611,
     "metadata": {},
     "output_type": "execute_result"
    }
   ],
   "source": [
    "categorical_df.head()"
   ]
  },
  {
   "cell_type": "code",
   "execution_count": 612,
   "metadata": {},
   "outputs": [],
   "source": [
    "x=categorical_df[\"state\"].value_counts().index\n",
    "y=categorical_df[\"state\"].value_counts().values"
   ]
  },
  {
   "cell_type": "code",
   "execution_count": 613,
   "metadata": {},
   "outputs": [
    {
     "data": {
      "image/png": "[encoded data removed]",
      "text/plain": [
       "<Figure size 800x320 with 1 Axes>"
      ]
     },
     "metadata": {},
     "output_type": "display_data"
    }
   ],
   "source": [
    "plt.style.use(\"classic\")\n",
    "fig, ax = plt.subplots(1, figsize=(10, 4))\n",
    "sns.barplot(x,y)\n",
    "plt.tight_layout()\n",
    "plt.show()"
   ]
  },
  {
   "cell_type": "code",
   "execution_count": 614,
   "metadata": {},
   "outputs": [],
   "source": [
    "# how to generate multiple bars?\n",
    "\n",
    "v=categorical_df[\"title_category\"].value_counts().index\n",
    "z=categorical_df[\"title_category\"].value_counts().values\n",
    "xx = np.arange(6)\n",
    "extra_y=z*1.2 \n",
    "labels_xx = [\"\", 'data scientist', 'data engineer', 'analyst', 'manager', 'ML',\n",
    "       'director', \"\"]"
   ]
  },
  {
   "cell_type": "code",
   "execution_count": 615,
   "metadata": {},
   "outputs": [
    {
     "data": {
      "image/png": "[encoded data removed]",
      "text/plain": [
       "<Figure size 640x480 with 1 Axes>"
      ]
     },
     "metadata": {},
     "output_type": "display_data"
    }
   ],
   "source": [
    "ax = plt.subplot()\n",
    "ax.bar(xx-0.1, z, width=0.2, color='b', align=\"center\", label=\"job_type\")\n",
    "ax.bar(xx+0.1, extra_y, width=0.2, color='k', align=\"center\", label=\"20%\")\n",
    "ax.set_xticklabels(labels_xx, rotation=45, fontsize=12,ha=\"right\")\n",
    "ax.legend()\n",
    "plt.rcParams[\"figure.figsize\"] = (5,5)\n",
    "plt.xlim(-1, 6)\n",
    "plt.show()"
   ]
  },
  {
   "cell_type": "code",
   "execution_count": 616,
   "metadata": {},
   "outputs": [],
   "source": [
    "series_z = pd.Series(z)\n",
    "series_z2 =pd.Series(extra_y)\n",
    "df_bar=pd.DataFrame({\"S1\":series_z, \"S2\":series_z2})"
   ]
  },
  {
   "cell_type": "code",
   "execution_count": 617,
   "metadata": {},
   "outputs": [
    {
     "data": {
      "image/png": "[encoded data removed]",
      "text/plain": [
       "<Figure size 400x400 with 1 Axes>"
      ]
     },
     "metadata": {},
     "output_type": "display_data"
    }
   ],
   "source": [
    "sns.barplot(x=v, hue=v, y=\"S1\", data=df_bar)\n",
    "plt.tight_layout()\n",
    "plt.xticks(rotation=\"30\", fontsize=12)\n",
    "plt.rcParams[\"figure.figsize\"] = (3,3)"
   ]
  },
  {
   "cell_type": "code",
   "execution_count": 618,
   "metadata": {},
   "outputs": [
    {
     "data": {
      "image/png": "[encoded data removed]",
      "text/plain": [
       "<Figure size 320x240 with 1 Axes>"
      ]
     },
     "metadata": {},
     "output_type": "display_data"
    }
   ],
   "source": [
    "plt.style.use(\"classic\")\n",
    "fig, ax = plt.subplots(1, figsize=(4, 3))\n",
    "plt.bar(v,z, color=[\"C1\", \"C2\", \"C3\", \"C4\", \"C5\", \"C6\"])\n",
    "plt.tight_layout()\n",
    "\n",
    "plt.ylim(0, 310)\n",
    "plt.xticks(rotation=45, fontsize=12)\n",
    "plt.show()\n"
   ]
  },
  {
   "cell_type": "code",
   "execution_count": 619,
   "metadata": {},
   "outputs": [
    {
     "data": {
      "text/plain": [
       "Text(0.0, 0.55, 'Number of Positions Advertised')"
      ]
     },
     "execution_count": 619,
     "metadata": {},
     "output_type": "execute_result"
    },
    {
     "data": {
      "image/png": "[encoded data removed]",
      "text/plain": [
       "<Figure size 960x400 with 2 Axes>"
      ]
     },
     "metadata": {},
     "output_type": "display_data"
    }
   ],
   "source": [
    "labels_ax2 = categorical_df[\"title_category\"].value_counts().index\n",
    "widths = [5, 2]\n",
    "heights = [2]\n",
    "gs_kw = dict(width_ratios=widths, height_ratios=heights, hspace=0)\n",
    "\n",
    "plt.style.use(\"seaborn-talk\")\n",
    "\n",
    "fig, (ax1, ax2) = plt.subplots(1,2, figsize=(12,5), gridspec_kw=gs_kw)\n",
    "ax1.bar(x,y, color=[\"C1\", \"C2\", \"C3\", \"C4\", \"C5\", \"C6\"])\n",
    "ax1.set(ylim=(0,170), xlabel=\"States\")\n",
    "ax1.set_title(\"Offers by State\")\n",
    "\n",
    "for tick in ax1.get_xticklabels():\n",
    "    tick.set_rotation(90)\n",
    "ax2.bar(v,z, color=[\"C1\", \"C2\", \"C3\", \"C4\", \"C5\", \"C6\"])\n",
    "ax2.set_xticklabels(labels_ax2, rotation=45, fontsize=12,ha=\"right\")\n",
    "ax2.set(ylim=(0,310), xlabel=\"Type of Position\")\n",
    "ax2.set_title(\"Offers by Position\")\n",
    "ax2.legend(labels_ax2, bbox_to_anchor=(1, 1), loc= \"best\") # legend?\n",
    "plt.tight_layout()\n",
    "fig.text(0.0, 0.55,\"Number of Positions Advertised\", va='center', rotation='vertical', fontsize=12)\n",
    "# fig.savefig(\"bar_subplots_ax1_ax2\", dpi=400)\n"
   ]
  },
  {
   "cell_type": "code",
   "execution_count": 620,
   "metadata": {},
   "outputs": [
    {
     "data": {
      "text/plain": [
       "array([354. , 150. , 118.8,  28.8,  24. ,  12. ])"
      ]
     },
     "execution_count": 620,
     "metadata": {},
     "output_type": "execute_result"
    }
   ],
   "source": [
    "(categorical_df[\"title_category\"].value_counts().values)*1.2"
   ]
  },
  {
   "cell_type": "code",
   "execution_count": 621,
   "metadata": {},
   "outputs": [
    {
     "data": {
      "text/plain": [
       "Index(['data scientist', 'data engineer', 'analyst', 'manager', 'ML',\n",
       "       'director'],\n",
       "      dtype='object')"
      ]
     },
     "execution_count": 621,
     "metadata": {},
     "output_type": "execute_result"
    }
   ],
   "source": [
    "categorical_df[\"title_category\"].value_counts().index"
   ]
  },
  {
   "cell_type": "raw",
   "metadata": {},
   "source": [
    "# For the purpose of data analyses, it may make sense to use a foor loop to get many graphs at once. Even if they dont look pretty. Just to get a sense of the data\n",
    "    \n",
    "    # %s converts a specified value to a string using the str() function.\n",
    "   #  %d is used as a placeholder for numeric or decimal values"
   ]
  },
  {
   "cell_type": "code",
   "execution_count": 642,
   "metadata": {},
   "outputs": [],
   "source": [
    "categorical_df_simplif = categorical_df[[\"size\", \"sector\", \"industry\", \"state\", \"title_category\"]]"
   ]
  },
  {
   "cell_type": "code",
   "execution_count": 643,
   "metadata": {},
   "outputs": [
    {
     "name": "stdout",
     "output_type": "stream",
     "text": [
      "graph for size: total = 9\n"
     ]
    },
    {
     "data": {
      "image/png": "[encoded data removed]",
      "text/plain": [
       "<Figure size 832x572 with 1 Axes>"
      ]
     },
     "metadata": {},
     "output_type": "display_data"
    },
    {
     "name": "stdout",
     "output_type": "stream",
     "text": [
      "graph for sector: total = 25\n"
     ]
    },
    {
     "data": {
      "image/png": "[encoded data removed]",
      "text/plain": [
       "<Figure size 832x572 with 1 Axes>"
      ]
     },
     "metadata": {},
     "output_type": "display_data"
    },
    {
     "name": "stdout",
     "output_type": "stream",
     "text": [
      "graph for industry: total = 62\n"
     ]
    },
    {
     "data": {
      "image/png": "[encoded data removed]",
      "text/plain": [
       "<Figure size 832x572 with 1 Axes>"
      ]
     },
     "metadata": {},
     "output_type": "display_data"
    },
    {
     "name": "stdout",
     "output_type": "stream",
     "text": [
      "graph for state: total = 39\n"
     ]
    },
    {
     "data": {
      "image/png": "[encoded data removed]",
      "text/plain": [
       "<Figure size 832x572 with 1 Axes>"
      ]
     },
     "metadata": {},
     "output_type": "display_data"
    },
    {
     "name": "stdout",
     "output_type": "stream",
     "text": [
      "graph for title_category: total = 6\n"
     ]
    },
    {
     "data": {
      "image/png": "[encoded data removed]",
      "text/plain": [
       "<Figure size 832x572 with 1 Axes>"
      ]
     },
     "metadata": {},
     "output_type": "display_data"
    }
   ],
   "source": [
    "for i in categorical_df_simplif.columns:\n",
    "    f=sns.barplot(x=categorical_df_simplif[i].value_counts().index, y=categorical_df_simplif[i].value_counts().values)\n",
    "    print(\"graph for %s: total = %d\" %(i, len(categorical_df_simplif[i].value_counts().index)))\n",
    "    f.set_xticklabels(categorical_df_simplif[i].value_counts().index, rotation=90, fontsize=10)\n",
    "    plt.tight_layout()\n",
    "    plt.show()\n"
   ]
  },
  {
   "cell_type": "code",
   "execution_count": null,
   "metadata": {},
   "outputs": [],
   "source": []
  }
 ],
 "metadata": {
  "kernelspec": {
   "display_name": "your_env_name",
   "language": "python",
   "name": "your_env_name"
  },
  "language_info": {
   "codemirror_mode": {
    "name": "ipython",
    "version": 3
   },
   "file_extension": ".py",
   "mimetype": "text/x-python",
   "name": "python",
   "nbconvert_exporter": "python",
   "pygments_lexer": "ipython3",
   "version": "3.7.4"
  }
 },
 "nbformat": 4,
 "nbformat_minor": 4
}
